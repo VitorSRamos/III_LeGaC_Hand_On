{
  "nbformat": 4,
  "nbformat_minor": 0,
  "metadata": {
    "colab": {
      "provenance": [],
      "gpuType": "T4",
      "collapsed_sections": [
        "id7KcodV223V"
      ],
      "authorship_tag": "ABX9TyMpETxzPZ2X786+hJ4BBRtb",
      "include_colab_link": true
    },
    "kernelspec": {
      "name": "python3",
      "display_name": "Python 3"
    },
    "language_info": {
      "name": "python"
    },
    "accelerator": "GPU",
    "widgets": {
      "application/vnd.jupyter.widget-state+json": {
        "a4f28747dcab48278b8e1eb1f479c26d": {
          "model_module": "@jupyter-widgets/controls",
          "model_name": "HBoxModel",
          "model_module_version": "1.5.0",
          "state": {
            "_dom_classes": [],
            "_model_module": "@jupyter-widgets/controls",
            "_model_module_version": "1.5.0",
            "_model_name": "HBoxModel",
            "_view_count": null,
            "_view_module": "@jupyter-widgets/controls",
            "_view_module_version": "1.5.0",
            "_view_name": "HBoxView",
            "box_style": "",
            "children": [
              "IPY_MODEL_5ce84dd27651414d8d2c2ac3fde65c78",
              "IPY_MODEL_7c703e4e66b741b2a6aeb66e1ebd7ff0",
              "IPY_MODEL_532d348e2a2b4a1ba292a48f9a1d5031"
            ],
            "layout": "IPY_MODEL_a2a3ead213304acdb4ad15f958748d61"
          }
        },
        "5ce84dd27651414d8d2c2ac3fde65c78": {
          "model_module": "@jupyter-widgets/controls",
          "model_name": "HTMLModel",
          "model_module_version": "1.5.0",
          "state": {
            "_dom_classes": [],
            "_model_module": "@jupyter-widgets/controls",
            "_model_module_version": "1.5.0",
            "_model_name": "HTMLModel",
            "_view_count": null,
            "_view_module": "@jupyter-widgets/controls",
            "_view_module_version": "1.5.0",
            "_view_name": "HTMLView",
            "description": "",
            "description_tooltip": null,
            "layout": "IPY_MODEL_a3f64338a894468ab3b0faf38998450e",
            "placeholder": "​",
            "style": "IPY_MODEL_5bb8f55270004fc8b208fa07cc62ae55",
            "value": "Running 1000 sbc samples.: 100%"
          }
        },
        "7c703e4e66b741b2a6aeb66e1ebd7ff0": {
          "model_module": "@jupyter-widgets/controls",
          "model_name": "FloatProgressModel",
          "model_module_version": "1.5.0",
          "state": {
            "_dom_classes": [],
            "_model_module": "@jupyter-widgets/controls",
            "_model_module_version": "1.5.0",
            "_model_name": "FloatProgressModel",
            "_view_count": null,
            "_view_module": "@jupyter-widgets/controls",
            "_view_module_version": "1.5.0",
            "_view_name": "ProgressView",
            "bar_style": "success",
            "description": "",
            "description_tooltip": null,
            "layout": "IPY_MODEL_1acf56c88e05455cba2aea746ab7b90c",
            "max": 1000,
            "min": 0,
            "orientation": "horizontal",
            "style": "IPY_MODEL_6b982959d0a14fdfb2dcfcba7a5097ff",
            "value": 1000
          }
        },
        "532d348e2a2b4a1ba292a48f9a1d5031": {
          "model_module": "@jupyter-widgets/controls",
          "model_name": "HTMLModel",
          "model_module_version": "1.5.0",
          "state": {
            "_dom_classes": [],
            "_model_module": "@jupyter-widgets/controls",
            "_model_module_version": "1.5.0",
            "_model_name": "HTMLModel",
            "_view_count": null,
            "_view_module": "@jupyter-widgets/controls",
            "_view_module_version": "1.5.0",
            "_view_name": "HTMLView",
            "description": "",
            "description_tooltip": null,
            "layout": "IPY_MODEL_39a68b847ab3494f8c4e3965d340fc93",
            "placeholder": "​",
            "style": "IPY_MODEL_20cdea6ff3cc44118c74789f5f9c6233",
            "value": " 1000/1000 [00:11&lt;00:00, 94.45it/s]"
          }
        },
        "a2a3ead213304acdb4ad15f958748d61": {
          "model_module": "@jupyter-widgets/base",
          "model_name": "LayoutModel",
          "model_module_version": "1.2.0",
          "state": {
            "_model_module": "@jupyter-widgets/base",
            "_model_module_version": "1.2.0",
            "_model_name": "LayoutModel",
            "_view_count": null,
            "_view_module": "@jupyter-widgets/base",
            "_view_module_version": "1.2.0",
            "_view_name": "LayoutView",
            "align_content": null,
            "align_items": null,
            "align_self": null,
            "border": null,
            "bottom": null,
            "display": null,
            "flex": null,
            "flex_flow": null,
            "grid_area": null,
            "grid_auto_columns": null,
            "grid_auto_flow": null,
            "grid_auto_rows": null,
            "grid_column": null,
            "grid_gap": null,
            "grid_row": null,
            "grid_template_areas": null,
            "grid_template_columns": null,
            "grid_template_rows": null,
            "height": null,
            "justify_content": null,
            "justify_items": null,
            "left": null,
            "margin": null,
            "max_height": null,
            "max_width": null,
            "min_height": null,
            "min_width": null,
            "object_fit": null,
            "object_position": null,
            "order": null,
            "overflow": null,
            "overflow_x": null,
            "overflow_y": null,
            "padding": null,
            "right": null,
            "top": null,
            "visibility": null,
            "width": null
          }
        },
        "a3f64338a894468ab3b0faf38998450e": {
          "model_module": "@jupyter-widgets/base",
          "model_name": "LayoutModel",
          "model_module_version": "1.2.0",
          "state": {
            "_model_module": "@jupyter-widgets/base",
            "_model_module_version": "1.2.0",
            "_model_name": "LayoutModel",
            "_view_count": null,
            "_view_module": "@jupyter-widgets/base",
            "_view_module_version": "1.2.0",
            "_view_name": "LayoutView",
            "align_content": null,
            "align_items": null,
            "align_self": null,
            "border": null,
            "bottom": null,
            "display": null,
            "flex": null,
            "flex_flow": null,
            "grid_area": null,
            "grid_auto_columns": null,
            "grid_auto_flow": null,
            "grid_auto_rows": null,
            "grid_column": null,
            "grid_gap": null,
            "grid_row": null,
            "grid_template_areas": null,
            "grid_template_columns": null,
            "grid_template_rows": null,
            "height": null,
            "justify_content": null,
            "justify_items": null,
            "left": null,
            "margin": null,
            "max_height": null,
            "max_width": null,
            "min_height": null,
            "min_width": null,
            "object_fit": null,
            "object_position": null,
            "order": null,
            "overflow": null,
            "overflow_x": null,
            "overflow_y": null,
            "padding": null,
            "right": null,
            "top": null,
            "visibility": null,
            "width": null
          }
        },
        "5bb8f55270004fc8b208fa07cc62ae55": {
          "model_module": "@jupyter-widgets/controls",
          "model_name": "DescriptionStyleModel",
          "model_module_version": "1.5.0",
          "state": {
            "_model_module": "@jupyter-widgets/controls",
            "_model_module_version": "1.5.0",
            "_model_name": "DescriptionStyleModel",
            "_view_count": null,
            "_view_module": "@jupyter-widgets/base",
            "_view_module_version": "1.2.0",
            "_view_name": "StyleView",
            "description_width": ""
          }
        },
        "1acf56c88e05455cba2aea746ab7b90c": {
          "model_module": "@jupyter-widgets/base",
          "model_name": "LayoutModel",
          "model_module_version": "1.2.0",
          "state": {
            "_model_module": "@jupyter-widgets/base",
            "_model_module_version": "1.2.0",
            "_model_name": "LayoutModel",
            "_view_count": null,
            "_view_module": "@jupyter-widgets/base",
            "_view_module_version": "1.2.0",
            "_view_name": "LayoutView",
            "align_content": null,
            "align_items": null,
            "align_self": null,
            "border": null,
            "bottom": null,
            "display": null,
            "flex": null,
            "flex_flow": null,
            "grid_area": null,
            "grid_auto_columns": null,
            "grid_auto_flow": null,
            "grid_auto_rows": null,
            "grid_column": null,
            "grid_gap": null,
            "grid_row": null,
            "grid_template_areas": null,
            "grid_template_columns": null,
            "grid_template_rows": null,
            "height": null,
            "justify_content": null,
            "justify_items": null,
            "left": null,
            "margin": null,
            "max_height": null,
            "max_width": null,
            "min_height": null,
            "min_width": null,
            "object_fit": null,
            "object_position": null,
            "order": null,
            "overflow": null,
            "overflow_x": null,
            "overflow_y": null,
            "padding": null,
            "right": null,
            "top": null,
            "visibility": null,
            "width": null
          }
        },
        "6b982959d0a14fdfb2dcfcba7a5097ff": {
          "model_module": "@jupyter-widgets/controls",
          "model_name": "ProgressStyleModel",
          "model_module_version": "1.5.0",
          "state": {
            "_model_module": "@jupyter-widgets/controls",
            "_model_module_version": "1.5.0",
            "_model_name": "ProgressStyleModel",
            "_view_count": null,
            "_view_module": "@jupyter-widgets/base",
            "_view_module_version": "1.2.0",
            "_view_name": "StyleView",
            "bar_color": null,
            "description_width": ""
          }
        },
        "39a68b847ab3494f8c4e3965d340fc93": {
          "model_module": "@jupyter-widgets/base",
          "model_name": "LayoutModel",
          "model_module_version": "1.2.0",
          "state": {
            "_model_module": "@jupyter-widgets/base",
            "_model_module_version": "1.2.0",
            "_model_name": "LayoutModel",
            "_view_count": null,
            "_view_module": "@jupyter-widgets/base",
            "_view_module_version": "1.2.0",
            "_view_name": "LayoutView",
            "align_content": null,
            "align_items": null,
            "align_self": null,
            "border": null,
            "bottom": null,
            "display": null,
            "flex": null,
            "flex_flow": null,
            "grid_area": null,
            "grid_auto_columns": null,
            "grid_auto_flow": null,
            "grid_auto_rows": null,
            "grid_column": null,
            "grid_gap": null,
            "grid_row": null,
            "grid_template_areas": null,
            "grid_template_columns": null,
            "grid_template_rows": null,
            "height": null,
            "justify_content": null,
            "justify_items": null,
            "left": null,
            "margin": null,
            "max_height": null,
            "max_width": null,
            "min_height": null,
            "min_width": null,
            "object_fit": null,
            "object_position": null,
            "order": null,
            "overflow": null,
            "overflow_x": null,
            "overflow_y": null,
            "padding": null,
            "right": null,
            "top": null,
            "visibility": null,
            "width": null
          }
        },
        "20cdea6ff3cc44118c74789f5f9c6233": {
          "model_module": "@jupyter-widgets/controls",
          "model_name": "DescriptionStyleModel",
          "model_module_version": "1.5.0",
          "state": {
            "_model_module": "@jupyter-widgets/controls",
            "_model_module_version": "1.5.0",
            "_model_name": "DescriptionStyleModel",
            "_view_count": null,
            "_view_module": "@jupyter-widgets/base",
            "_view_module_version": "1.2.0",
            "_view_name": "StyleView",
            "description_width": ""
          }
        }
      }
    }
  },
  "cells": [
    {
      "cell_type": "markdown",
      "metadata": {
        "id": "view-in-github",
        "colab_type": "text"
      },
      "source": [
        "<a href=\"https://colab.research.google.com/github/VitorSRamos/III_LeGaC_Hands_On/blob/main/LensModelingWithSBI.ipynb\" target=\"_parent\"><img src=\"https://colab.research.google.com/assets/colab-badge.svg\" alt=\"Open In Colab\"/></a>"
      ]
    },
    {
      "cell_type": "markdown",
      "source": [
        "**Lens Modeling with Simulation-Based Inference**\n",
        "\n",
        "\n",
        "This activity was created for a Hands-On session for the 3rd workshop on Lensing by Galaxies and Clusters (III LeGaC). The goal of this tutorial is to use simulation-based inference to measure the Einstein Radii of a dataset of galaxy-galaxy strong lensing images."
      ],
      "metadata": {
        "id": "id7KcodV223V"
      }
    },
    {
      "cell_type": "code",
      "source": [
        "# basic imports\n",
        "import numpy as np\n",
        "import matplotlib.pyplot as plt\n",
        "import pandas as pd\n",
        "\n",
        "# setting random state\n",
        "np.random.seed(42)"
      ],
      "metadata": {
        "id": "X7lFrQy9rt2z"
      },
      "execution_count": null,
      "outputs": []
    },
    {
      "cell_type": "markdown",
      "source": [
        "Simulating Galaxy-Galaxy Strong Lensing systems\n",
        "--\n",
        "The first step is to simulate images of Strong Lensing systems. We'll use [deeplenstronomy](https://github.com/deepskies/deeplenstronomy) to generate a dataset of simple SL simulations.\n",
        "\n",
        "To use deeplenstronomy, we first need a configuration file that tells the simulator what parameters to use to generate the simulations. For this tutorial, we'll generate a dataset of 2000 galaxy-galaxy strong lensing systems. The file specifies the parameters used to generate simulations, including both interest and nuisance parameters, and some observation parameters. For more information on deeplenstronomy configuration files, see [here](https://github.com/deepskies/deeplenstronomy/blob/master/Notebooks/ConfigFiles.md)."
      ],
      "metadata": {
        "id": "m2_r2otS3RRL"
      }
    },
    {
      "cell_type": "code",
      "source": [
        "# Downloading custom configuration file for the simulator\n",
        "!wget -q https://raw.githubusercontent.com/VitorSRamos/III_LeGaC_Hand_On/main/training_configuration_file.yaml"
      ],
      "metadata": {
        "id": "QkHYUDBd8hRo"
      },
      "execution_count": null,
      "outputs": []
    },
    {
      "cell_type": "code",
      "source": [
        "# Installing the simulator\n",
        "!pip install deeplenstronomy --quiet"
      ],
      "metadata": {
        "id": "BgMoXf1Srx8u"
      },
      "execution_count": null,
      "outputs": []
    },
    {
      "cell_type": "code",
      "source": [
        "import deeplenstronomy\n",
        "import deeplenstronomy.deeplenstronomy as dl"
      ],
      "metadata": {
        "id": "Dg2N75ol4Vcp"
      },
      "execution_count": null,
      "outputs": []
    },
    {
      "cell_type": "code",
      "source": [
        "training_dataset = dl.make_dataset(\"training_configuration_file.yaml\", verbose=True)"
      ],
      "metadata": {
        "colab": {
          "base_uri": "https://localhost:8080/"
        },
        "id": "AGS--MmSuIbo",
        "outputId": "5ea22526-a8a8-4d5c-b19e-bdb1b840c489"
      },
      "execution_count": null,
      "outputs": [
        {
          "output_type": "stream",
          "name": "stdout",
          "text": [
            "Entering main organization loop\n",
            "Organizing CONFIGURATION_1\n",
            "Generating images for CONFIGURATION_1\n",
            "\tProgress: 100.0 %  ---  Elapsed Time: 0 H 2 M 18 S         \n"
          ]
        }
      ]
    },
    {
      "cell_type": "markdown",
      "source": [
        "The simulator outputs a numpy array with the images that we'll store in the `training_images` variable, and a dataframe with the parameters, stored as `training_params`.\n"
      ],
      "metadata": {
        "id": "TW7r6Aqt_his"
      }
    },
    {
      "cell_type": "code",
      "source": [
        "training_images=training_dataset.CONFIGURATION_1_images\n",
        "training_params=training_dataset.CONFIGURATION_1_metadata\n",
        "\n",
        "print(f\"Training images shape: {training_images.shape}\")\n",
        "print(f\"Training Parameters shape: {training_params.shape}\")"
      ],
      "metadata": {
        "colab": {
          "base_uri": "https://localhost:8080/"
        },
        "id": "PZLcJDY_wFw8",
        "outputId": "12177c83-31d3-4f06-8a48-4d16f6a0caec"
      },
      "execution_count": null,
      "outputs": [
        {
          "output_type": "stream",
          "name": "stdout",
          "text": [
            "Training images shape: (4000, 4, 87, 87)\n",
            "Training Parameters shape: (4000, 248)\n"
          ]
        }
      ]
    },
    {
      "cell_type": "code",
      "source": [
        "training_params.head()"
      ],
      "metadata": {
        "colab": {
          "base_uri": "https://localhost:8080/",
          "height": 308
        },
        "id": "ZE7VxAv8BvCb",
        "outputId": "99aae722-f7e8-4825-f4c7-677c47e1eaa6"
      },
      "execution_count": null,
      "outputs": [
        {
          "output_type": "execute_result",
          "data": {
            "text/plain": [
              "   OBJID-g  H0-g  Om0-g  exposure_time-g  numPix-g  pixel_scale-g psf_type-g  \\\n",
              "0        1  70.0    0.3          120.667        87          0.263   GAUSSIAN   \n",
              "1        2  70.0    0.3          163.333        87          0.263   GAUSSIAN   \n",
              "2        3  70.0    0.3           46.000        87          0.263   GAUSSIAN   \n",
              "3        4  70.0    0.3          195.333        87          0.263   GAUSSIAN   \n",
              "4        5  70.0    0.3          120.667        87          0.263   GAUSSIAN   \n",
              "\n",
              "   read_noise-g  ccd_gain-g  seeing-g  ...  \\\n",
              "0             7           4     0.890  ...   \n",
              "1             7           4     1.175  ...   \n",
              "2             7           4     1.104  ...   \n",
              "3             7           4     1.246  ...   \n",
              "4             7           4     1.531  ...   \n",
              "\n",
              "   PLANE_2-OBJECT_1-MASS_PROFILE_1-center_y-z  BACKGROUND_IDX-z  \\\n",
              "0                                   -1.435008                 0   \n",
              "1                                   -0.187526                 0   \n",
              "2                                    0.052703                 0   \n",
              "3                                    0.861323                 0   \n",
              "4                                   -0.496647                 0   \n",
              "\n",
              "   PLANE_1-REDSHIFT-g  PLANE_2-REDSHIFT-g PLANE_1-REDSHIFT-r  \\\n",
              "0            0.729251            2.015700           0.729251   \n",
              "1            0.550267            5.919574           0.550267   \n",
              "2            0.480304            1.915357           0.480304   \n",
              "3            0.430166            3.175774           0.430166   \n",
              "4            0.866492            3.357734           0.866492   \n",
              "\n",
              "  PLANE_2-REDSHIFT-r  PLANE_1-REDSHIFT-i  PLANE_2-REDSHIFT-i  \\\n",
              "0           2.015700            0.729251            2.015700   \n",
              "1           5.919574            0.550267            5.919574   \n",
              "2           1.915357            0.480304            1.915357   \n",
              "3           3.175774            0.430166            3.175774   \n",
              "4           3.357734            0.866492            3.357734   \n",
              "\n",
              "  PLANE_1-REDSHIFT-z  PLANE_2-REDSHIFT-z  \n",
              "0           0.729251            2.015700  \n",
              "1           0.550267            5.919574  \n",
              "2           0.480304            1.915357  \n",
              "3           0.430166            3.175774  \n",
              "4           0.866492            3.357734  \n",
              "\n",
              "[5 rows x 248 columns]"
            ],
            "text/html": [
              "\n",
              "  <div id=\"df-70c70faf-2a47-471f-aecc-209d1e0c1f71\" class=\"colab-df-container\">\n",
              "    <div>\n",
              "<style scoped>\n",
              "    .dataframe tbody tr th:only-of-type {\n",
              "        vertical-align: middle;\n",
              "    }\n",
              "\n",
              "    .dataframe tbody tr th {\n",
              "        vertical-align: top;\n",
              "    }\n",
              "\n",
              "    .dataframe thead th {\n",
              "        text-align: right;\n",
              "    }\n",
              "</style>\n",
              "<table border=\"1\" class=\"dataframe\">\n",
              "  <thead>\n",
              "    <tr style=\"text-align: right;\">\n",
              "      <th></th>\n",
              "      <th>OBJID-g</th>\n",
              "      <th>H0-g</th>\n",
              "      <th>Om0-g</th>\n",
              "      <th>exposure_time-g</th>\n",
              "      <th>numPix-g</th>\n",
              "      <th>pixel_scale-g</th>\n",
              "      <th>psf_type-g</th>\n",
              "      <th>read_noise-g</th>\n",
              "      <th>ccd_gain-g</th>\n",
              "      <th>seeing-g</th>\n",
              "      <th>...</th>\n",
              "      <th>PLANE_2-OBJECT_1-MASS_PROFILE_1-center_y-z</th>\n",
              "      <th>BACKGROUND_IDX-z</th>\n",
              "      <th>PLANE_1-REDSHIFT-g</th>\n",
              "      <th>PLANE_2-REDSHIFT-g</th>\n",
              "      <th>PLANE_1-REDSHIFT-r</th>\n",
              "      <th>PLANE_2-REDSHIFT-r</th>\n",
              "      <th>PLANE_1-REDSHIFT-i</th>\n",
              "      <th>PLANE_2-REDSHIFT-i</th>\n",
              "      <th>PLANE_1-REDSHIFT-z</th>\n",
              "      <th>PLANE_2-REDSHIFT-z</th>\n",
              "    </tr>\n",
              "  </thead>\n",
              "  <tbody>\n",
              "    <tr>\n",
              "      <th>0</th>\n",
              "      <td>1</td>\n",
              "      <td>70.0</td>\n",
              "      <td>0.3</td>\n",
              "      <td>120.667</td>\n",
              "      <td>87</td>\n",
              "      <td>0.263</td>\n",
              "      <td>GAUSSIAN</td>\n",
              "      <td>7</td>\n",
              "      <td>4</td>\n",
              "      <td>0.890</td>\n",
              "      <td>...</td>\n",
              "      <td>-1.435008</td>\n",
              "      <td>0</td>\n",
              "      <td>0.729251</td>\n",
              "      <td>2.015700</td>\n",
              "      <td>0.729251</td>\n",
              "      <td>2.015700</td>\n",
              "      <td>0.729251</td>\n",
              "      <td>2.015700</td>\n",
              "      <td>0.729251</td>\n",
              "      <td>2.015700</td>\n",
              "    </tr>\n",
              "    <tr>\n",
              "      <th>1</th>\n",
              "      <td>2</td>\n",
              "      <td>70.0</td>\n",
              "      <td>0.3</td>\n",
              "      <td>163.333</td>\n",
              "      <td>87</td>\n",
              "      <td>0.263</td>\n",
              "      <td>GAUSSIAN</td>\n",
              "      <td>7</td>\n",
              "      <td>4</td>\n",
              "      <td>1.175</td>\n",
              "      <td>...</td>\n",
              "      <td>-0.187526</td>\n",
              "      <td>0</td>\n",
              "      <td>0.550267</td>\n",
              "      <td>5.919574</td>\n",
              "      <td>0.550267</td>\n",
              "      <td>5.919574</td>\n",
              "      <td>0.550267</td>\n",
              "      <td>5.919574</td>\n",
              "      <td>0.550267</td>\n",
              "      <td>5.919574</td>\n",
              "    </tr>\n",
              "    <tr>\n",
              "      <th>2</th>\n",
              "      <td>3</td>\n",
              "      <td>70.0</td>\n",
              "      <td>0.3</td>\n",
              "      <td>46.000</td>\n",
              "      <td>87</td>\n",
              "      <td>0.263</td>\n",
              "      <td>GAUSSIAN</td>\n",
              "      <td>7</td>\n",
              "      <td>4</td>\n",
              "      <td>1.104</td>\n",
              "      <td>...</td>\n",
              "      <td>0.052703</td>\n",
              "      <td>0</td>\n",
              "      <td>0.480304</td>\n",
              "      <td>1.915357</td>\n",
              "      <td>0.480304</td>\n",
              "      <td>1.915357</td>\n",
              "      <td>0.480304</td>\n",
              "      <td>1.915357</td>\n",
              "      <td>0.480304</td>\n",
              "      <td>1.915357</td>\n",
              "    </tr>\n",
              "    <tr>\n",
              "      <th>3</th>\n",
              "      <td>4</td>\n",
              "      <td>70.0</td>\n",
              "      <td>0.3</td>\n",
              "      <td>195.333</td>\n",
              "      <td>87</td>\n",
              "      <td>0.263</td>\n",
              "      <td>GAUSSIAN</td>\n",
              "      <td>7</td>\n",
              "      <td>4</td>\n",
              "      <td>1.246</td>\n",
              "      <td>...</td>\n",
              "      <td>0.861323</td>\n",
              "      <td>0</td>\n",
              "      <td>0.430166</td>\n",
              "      <td>3.175774</td>\n",
              "      <td>0.430166</td>\n",
              "      <td>3.175774</td>\n",
              "      <td>0.430166</td>\n",
              "      <td>3.175774</td>\n",
              "      <td>0.430166</td>\n",
              "      <td>3.175774</td>\n",
              "    </tr>\n",
              "    <tr>\n",
              "      <th>4</th>\n",
              "      <td>5</td>\n",
              "      <td>70.0</td>\n",
              "      <td>0.3</td>\n",
              "      <td>120.667</td>\n",
              "      <td>87</td>\n",
              "      <td>0.263</td>\n",
              "      <td>GAUSSIAN</td>\n",
              "      <td>7</td>\n",
              "      <td>4</td>\n",
              "      <td>1.531</td>\n",
              "      <td>...</td>\n",
              "      <td>-0.496647</td>\n",
              "      <td>0</td>\n",
              "      <td>0.866492</td>\n",
              "      <td>3.357734</td>\n",
              "      <td>0.866492</td>\n",
              "      <td>3.357734</td>\n",
              "      <td>0.866492</td>\n",
              "      <td>3.357734</td>\n",
              "      <td>0.866492</td>\n",
              "      <td>3.357734</td>\n",
              "    </tr>\n",
              "  </tbody>\n",
              "</table>\n",
              "<p>5 rows × 248 columns</p>\n",
              "</div>\n",
              "    <div class=\"colab-df-buttons\">\n",
              "\n",
              "  <div class=\"colab-df-container\">\n",
              "    <button class=\"colab-df-convert\" onclick=\"convertToInteractive('df-70c70faf-2a47-471f-aecc-209d1e0c1f71')\"\n",
              "            title=\"Convert this dataframe to an interactive table.\"\n",
              "            style=\"display:none;\">\n",
              "\n",
              "  <svg xmlns=\"http://www.w3.org/2000/svg\" height=\"24px\" viewBox=\"0 -960 960 960\">\n",
              "    <path d=\"M120-120v-720h720v720H120Zm60-500h600v-160H180v160Zm220 220h160v-160H400v160Zm0 220h160v-160H400v160ZM180-400h160v-160H180v160Zm440 0h160v-160H620v160ZM180-180h160v-160H180v160Zm440 0h160v-160H620v160Z\"/>\n",
              "  </svg>\n",
              "    </button>\n",
              "\n",
              "  <style>\n",
              "    .colab-df-container {\n",
              "      display:flex;\n",
              "      gap: 12px;\n",
              "    }\n",
              "\n",
              "    .colab-df-convert {\n",
              "      background-color: #E8F0FE;\n",
              "      border: none;\n",
              "      border-radius: 50%;\n",
              "      cursor: pointer;\n",
              "      display: none;\n",
              "      fill: #1967D2;\n",
              "      height: 32px;\n",
              "      padding: 0 0 0 0;\n",
              "      width: 32px;\n",
              "    }\n",
              "\n",
              "    .colab-df-convert:hover {\n",
              "      background-color: #E2EBFA;\n",
              "      box-shadow: 0px 1px 2px rgba(60, 64, 67, 0.3), 0px 1px 3px 1px rgba(60, 64, 67, 0.15);\n",
              "      fill: #174EA6;\n",
              "    }\n",
              "\n",
              "    .colab-df-buttons div {\n",
              "      margin-bottom: 4px;\n",
              "    }\n",
              "\n",
              "    [theme=dark] .colab-df-convert {\n",
              "      background-color: #3B4455;\n",
              "      fill: #D2E3FC;\n",
              "    }\n",
              "\n",
              "    [theme=dark] .colab-df-convert:hover {\n",
              "      background-color: #434B5C;\n",
              "      box-shadow: 0px 1px 3px 1px rgba(0, 0, 0, 0.15);\n",
              "      filter: drop-shadow(0px 1px 2px rgba(0, 0, 0, 0.3));\n",
              "      fill: #FFFFFF;\n",
              "    }\n",
              "  </style>\n",
              "\n",
              "    <script>\n",
              "      const buttonEl =\n",
              "        document.querySelector('#df-70c70faf-2a47-471f-aecc-209d1e0c1f71 button.colab-df-convert');\n",
              "      buttonEl.style.display =\n",
              "        google.colab.kernel.accessAllowed ? 'block' : 'none';\n",
              "\n",
              "      async function convertToInteractive(key) {\n",
              "        const element = document.querySelector('#df-70c70faf-2a47-471f-aecc-209d1e0c1f71');\n",
              "        const dataTable =\n",
              "          await google.colab.kernel.invokeFunction('convertToInteractive',\n",
              "                                                    [key], {});\n",
              "        if (!dataTable) return;\n",
              "\n",
              "        const docLinkHtml = 'Like what you see? Visit the ' +\n",
              "          '<a target=\"_blank\" href=https://colab.research.google.com/notebooks/data_table.ipynb>data table notebook</a>'\n",
              "          + ' to learn more about interactive tables.';\n",
              "        element.innerHTML = '';\n",
              "        dataTable['output_type'] = 'display_data';\n",
              "        await google.colab.output.renderOutput(dataTable, element);\n",
              "        const docLink = document.createElement('div');\n",
              "        docLink.innerHTML = docLinkHtml;\n",
              "        element.appendChild(docLink);\n",
              "      }\n",
              "    </script>\n",
              "  </div>\n",
              "\n",
              "\n",
              "<div id=\"df-f56ae643-af5f-4407-b754-12363a8ead8f\">\n",
              "  <button class=\"colab-df-quickchart\" onclick=\"quickchart('df-f56ae643-af5f-4407-b754-12363a8ead8f')\"\n",
              "            title=\"Suggest charts\"\n",
              "            style=\"display:none;\">\n",
              "\n",
              "<svg xmlns=\"http://www.w3.org/2000/svg\" height=\"24px\"viewBox=\"0 0 24 24\"\n",
              "     width=\"24px\">\n",
              "    <g>\n",
              "        <path d=\"M19 3H5c-1.1 0-2 .9-2 2v14c0 1.1.9 2 2 2h14c1.1 0 2-.9 2-2V5c0-1.1-.9-2-2-2zM9 17H7v-7h2v7zm4 0h-2V7h2v10zm4 0h-2v-4h2v4z\"/>\n",
              "    </g>\n",
              "</svg>\n",
              "  </button>\n",
              "\n",
              "<style>\n",
              "  .colab-df-quickchart {\n",
              "      --bg-color: #E8F0FE;\n",
              "      --fill-color: #1967D2;\n",
              "      --hover-bg-color: #E2EBFA;\n",
              "      --hover-fill-color: #174EA6;\n",
              "      --disabled-fill-color: #AAA;\n",
              "      --disabled-bg-color: #DDD;\n",
              "  }\n",
              "\n",
              "  [theme=dark] .colab-df-quickchart {\n",
              "      --bg-color: #3B4455;\n",
              "      --fill-color: #D2E3FC;\n",
              "      --hover-bg-color: #434B5C;\n",
              "      --hover-fill-color: #FFFFFF;\n",
              "      --disabled-bg-color: #3B4455;\n",
              "      --disabled-fill-color: #666;\n",
              "  }\n",
              "\n",
              "  .colab-df-quickchart {\n",
              "    background-color: var(--bg-color);\n",
              "    border: none;\n",
              "    border-radius: 50%;\n",
              "    cursor: pointer;\n",
              "    display: none;\n",
              "    fill: var(--fill-color);\n",
              "    height: 32px;\n",
              "    padding: 0;\n",
              "    width: 32px;\n",
              "  }\n",
              "\n",
              "  .colab-df-quickchart:hover {\n",
              "    background-color: var(--hover-bg-color);\n",
              "    box-shadow: 0 1px 2px rgba(60, 64, 67, 0.3), 0 1px 3px 1px rgba(60, 64, 67, 0.15);\n",
              "    fill: var(--button-hover-fill-color);\n",
              "  }\n",
              "\n",
              "  .colab-df-quickchart-complete:disabled,\n",
              "  .colab-df-quickchart-complete:disabled:hover {\n",
              "    background-color: var(--disabled-bg-color);\n",
              "    fill: var(--disabled-fill-color);\n",
              "    box-shadow: none;\n",
              "  }\n",
              "\n",
              "  .colab-df-spinner {\n",
              "    border: 2px solid var(--fill-color);\n",
              "    border-color: transparent;\n",
              "    border-bottom-color: var(--fill-color);\n",
              "    animation:\n",
              "      spin 1s steps(1) infinite;\n",
              "  }\n",
              "\n",
              "  @keyframes spin {\n",
              "    0% {\n",
              "      border-color: transparent;\n",
              "      border-bottom-color: var(--fill-color);\n",
              "      border-left-color: var(--fill-color);\n",
              "    }\n",
              "    20% {\n",
              "      border-color: transparent;\n",
              "      border-left-color: var(--fill-color);\n",
              "      border-top-color: var(--fill-color);\n",
              "    }\n",
              "    30% {\n",
              "      border-color: transparent;\n",
              "      border-left-color: var(--fill-color);\n",
              "      border-top-color: var(--fill-color);\n",
              "      border-right-color: var(--fill-color);\n",
              "    }\n",
              "    40% {\n",
              "      border-color: transparent;\n",
              "      border-right-color: var(--fill-color);\n",
              "      border-top-color: var(--fill-color);\n",
              "    }\n",
              "    60% {\n",
              "      border-color: transparent;\n",
              "      border-right-color: var(--fill-color);\n",
              "    }\n",
              "    80% {\n",
              "      border-color: transparent;\n",
              "      border-right-color: var(--fill-color);\n",
              "      border-bottom-color: var(--fill-color);\n",
              "    }\n",
              "    90% {\n",
              "      border-color: transparent;\n",
              "      border-bottom-color: var(--fill-color);\n",
              "    }\n",
              "  }\n",
              "</style>\n",
              "\n",
              "  <script>\n",
              "    async function quickchart(key) {\n",
              "      const quickchartButtonEl =\n",
              "        document.querySelector('#' + key + ' button');\n",
              "      quickchartButtonEl.disabled = true;  // To prevent multiple clicks.\n",
              "      quickchartButtonEl.classList.add('colab-df-spinner');\n",
              "      try {\n",
              "        const charts = await google.colab.kernel.invokeFunction(\n",
              "            'suggestCharts', [key], {});\n",
              "      } catch (error) {\n",
              "        console.error('Error during call to suggestCharts:', error);\n",
              "      }\n",
              "      quickchartButtonEl.classList.remove('colab-df-spinner');\n",
              "      quickchartButtonEl.classList.add('colab-df-quickchart-complete');\n",
              "    }\n",
              "    (() => {\n",
              "      let quickchartButtonEl =\n",
              "        document.querySelector('#df-f56ae643-af5f-4407-b754-12363a8ead8f button');\n",
              "      quickchartButtonEl.style.display =\n",
              "        google.colab.kernel.accessAllowed ? 'block' : 'none';\n",
              "    })();\n",
              "  </script>\n",
              "</div>\n",
              "\n",
              "    </div>\n",
              "  </div>\n"
            ],
            "application/vnd.google.colaboratory.intrinsic+json": {
              "type": "dataframe",
              "variable_name": "training_params"
            }
          },
          "metadata": {},
          "execution_count": 7
        }
      ]
    },
    {
      "cell_type": "code",
      "source": [
        "image_idx = 3\n",
        "print(f\"Einstein Radius: {training_params['PLANE_1-OBJECT_1-MASS_PROFILE_1-theta_E-g'][idx]} arcsec\")\n",
        "\n",
        "# plot\n",
        "fig, axs = plt.subplots(1,4, figsize=(15,8))\n",
        "for ax_idx, ax in enumerate(axs.ravel()):\n",
        "    ax.imshow(training_images[image_idx, ax_idx])"
      ],
      "metadata": {
        "colab": {
          "base_uri": "https://localhost:8080/",
          "height": 468
        },
        "id": "wL-arfNXu-_3",
        "outputId": "2289f780-ed79-465a-da2d-cafac9a37cb3"
      },
      "execution_count": null,
      "outputs": [
        {
          "output_type": "stream",
          "name": "stdout",
          "text": [
            "Einstein Radius: 1.889130214708865 arcsec\n"
          ]
        },
        {
          "output_type": "execute_result",
          "data": {
            "text/plain": [
              "<matplotlib.image.AxesImage at 0x7a5049073a90>"
            ]
          },
          "metadata": {},
          "execution_count": 8
        },
        {
          "output_type": "display_data",
          "data": {
            "text/plain": [
              "<Figure size 640x480 with 1 Axes>"
            ],
            "image/png": "[encoded data removed]"
          },
          "metadata": {}
        }
      ]
    },
    {
      "cell_type": "markdown",
      "source": [
        "Simulation-Based Inference\n",
        "--\n",
        "\n",
        "Now that we have the simulations, we can focus on the machine learning model that will be used for the inference procedure. [Simulation-Based Inference](https://www.pnas.org/doi/10.1073/pnas.1912789117) (SBI) is a form of likelihood-free inference that allows us to perform statistical analysis and make predictions without explicitly specifying a likelihood function. By using density estimation algorithms such as normalizing flows and mixture density networks, we can effectively learn the underlying relationships between the observed data and the model parameters, enabling us to infer the posterior distributions for these parameters.\n",
        "\n",
        "One way to perform SBI is by using [Neural Posterior Estimation](https://arxiv.org/abs/1905.07488) (NPE), a technique that uses neural network based density estimators to approximate the posterior distribution directly from observed data. Rather than relying on traditional Markov Chain Monte Carlo (MCMC) methods, which can be computationally intensive and slow to converge, NPE directly targets the posterior distribution of the parameters, offering great scalability to high-dimensional parameter spaces and faster inference times. By training the neural network on a dataset generated from simulations, it learns to capture the relation between observed data and underlying parameters, allowing for posterior approximation.\n",
        "\n",
        "To perform NPE on our data, we'll use the [sbi](https://github.com/sbi-dev/sbi) package."
      ],
      "metadata": {
        "id": "rrG-DEcLB8d9"
      }
    },
    {
      "cell_type": "code",
      "source": [
        "# Installing the inference package\n",
        "!pip install sbi --quiet"
      ],
      "metadata": {
        "id": "w7og3leQr1tf"
      },
      "execution_count": null,
      "outputs": []
    },
    {
      "cell_type": "code",
      "source": [
        "# some other useful imports\n",
        "import torch\n",
        "\n",
        "import sbi\n",
        "from sbi import utils as utils\n",
        "from sbi.inference import SNPE\n",
        "from sbi.neural_nets.embedding_nets import CNNEmbedding\n",
        "from sbi.utils.user_input_checks_utils import float32"
      ],
      "metadata": {
        "id": "llSbThSsyRlQ"
      },
      "execution_count": null,
      "outputs": []
    },
    {
      "cell_type": "markdown",
      "source": [
        "To avoid working with high-dimensional image data, we can use an embedding network that summarizes the features in the images into lower dimensional vectors, reducing training and inference times and making the model less susceptible to small variations in training data, offering greater robusticity.\n",
        "\n",
        "For this notebook, we'll use a simple Convolutional Neural Network."
      ],
      "metadata": {
        "id": "PMYcOQL-tQ4q"
      }
    },
    {
      "cell_type": "code",
      "source": [
        "embedding_net = CNNEmbedding(input_shape=(87,87),\n",
        "                             in_channels=4,\n",
        "                             out_channels_per_layer= [128,64,32],\n",
        "                             num_conv_layers= 3,\n",
        "                             num_linear_layers = 4,\n",
        "                             num_linear_units = 256,\n",
        "                             output_dim = 16,\n",
        "                             kernel_size = 3,\n",
        "                             pool_kernel_size = 2,\n",
        "                            )"
      ],
      "metadata": {
        "id": "XGU538hIyvpB"
      },
      "execution_count": null,
      "outputs": []
    },
    {
      "cell_type": "markdown",
      "source": [
        "We can then define our density estimator. We will use [Normalizing Flows](https://arxiv.org/abs/1908.09257), a class of models that work by applying invertible and differentiable transformations to a simple base distribution with the goal of modeling an arbitrary complex distribution. The parameters of the transformations are defined by neural networks, which allows us to train these models to perform density estimation in a dataset.\n",
        "\n",
        "\n",
        "\n",
        "For the transformations, we opt for [Neural Spline Flows](https://arxiv.org/abs/1906.04032) (NSF), a class of normalizing flows that retains great expressivity while being relatively simple to train."
      ],
      "metadata": {
        "id": "4eB5ekzEuw2R"
      }
    },
    {
      "cell_type": "code",
      "source": [
        "neural_posterior = utils.posterior_nn(model=\"nsf\",\n",
        "                                      embedding_net=embedding_net,\n",
        "                                      hidden_features=8,\n",
        "                                      num_transforms=2,\n",
        "                                      )"
      ],
      "metadata": {
        "id": "URKDcp7Nw7aa"
      },
      "execution_count": null,
      "outputs": []
    },
    {
      "cell_type": "markdown",
      "source": [
        "We choose our inference method. As mentioned earlier, we use Neural Posterior Estimation (implemented as SNPE). This creates the base `inference` object that will be used from now on."
      ],
      "metadata": {
        "id": "45H_854vyo6b"
      }
    },
    {
      "cell_type": "code",
      "source": [
        "inference = SNPE(density_estimator=neural_posterior, device=\"cuda\")"
      ],
      "metadata": {
        "id": "WNHip7-by42C"
      },
      "execution_count": null,
      "outputs": []
    },
    {
      "cell_type": "markdown",
      "source": [
        "We then convert the training data to torch tensors (as required by sbi). Since we are only interested in the Einstein Radius, the new `training_params` variable will have that information only."
      ],
      "metadata": {
        "id": "VygU57Vny055"
      }
    },
    {
      "cell_type": "code",
      "source": [
        "expanded_params=np.expand_dims(training_params['PLANE_1-OBJECT_1-MASS_PROFILE_1-theta_E-g'], axis=1) # another requirement of sbi\n",
        "\n",
        "training_params = torch.tensor(expanded_params, dtype=float32, device=\"cuda\")\n",
        "training_images = torch.tensor(training_images, dtype=float32, device=\"cuda\")\n",
        "\n",
        "print(f\"Training images shape: {training_images.shape}\")\n",
        "print(f\"Training params shape: {training_params.shape}\")"
      ],
      "metadata": {
        "colab": {
          "base_uri": "https://localhost:8080/"
        },
        "id": "-dVQg6Zqy70f",
        "outputId": "c41782d2-aee1-42f5-e9f3-f460c63c9ca7"
      },
      "execution_count": null,
      "outputs": [
        {
          "output_type": "stream",
          "name": "stdout",
          "text": [
            "Training images shape: torch.Size([4000, 4, 87, 87])\n",
            "Training params shape: torch.Size([4000, 1])\n"
          ]
        }
      ]
    },
    {
      "cell_type": "markdown",
      "source": [
        "Now we load the training data to the `inference` object"
      ],
      "metadata": {
        "id": "RKhSSh3Hzyee"
      }
    },
    {
      "cell_type": "code",
      "source": [
        "inference.append_simulations(training_params, training_images)"
      ],
      "metadata": {
        "colab": {
          "base_uri": "https://localhost:8080/"
        },
        "id": "OgouCDbZ-Hx7",
        "outputId": "bc6253a0-0e8c-4466-a596-dae0ca4dff1c"
      },
      "execution_count": null,
      "outputs": [
        {
          "output_type": "execute_result",
          "data": {
            "text/plain": [
              "<sbi.inference.snpe.snpe_c.SNPE_C at 0x7a4ee14ae980>"
            ]
          },
          "metadata": {},
          "execution_count": 43
        }
      ]
    },
    {
      "cell_type": "markdown",
      "source": [
        "And finally, we perform the training procedure using the training data."
      ],
      "metadata": {
        "id": "ujoyVVmP0E5J"
      }
    },
    {
      "cell_type": "code",
      "source": [
        "density_estimator = inference.train(stop_after_epochs=20,\n",
        "                                    max_num_epochs=200,\n",
        "                                    training_batch_size=512,\n",
        "                                    learning_rate=0.01,\n",
        "                                    validation_fraction=0.1,\n",
        "                                    )"
      ],
      "metadata": {
        "colab": {
          "base_uri": "https://localhost:8080/"
        },
        "id": "_EU86OyLy_G1",
        "outputId": "288bf234-98b4-4dcd-bcb3-e1dc505c6c02"
      },
      "execution_count": null,
      "outputs": [
        {
          "output_type": "stream",
          "name": "stdout",
          "text": [
            " Neural network successfully converged after 44 epochs."
          ]
        }
      ]
    },
    {
      "cell_type": "markdown",
      "source": [
        "We analyze the training procedure"
      ],
      "metadata": {
        "id": "UFdsWQFm1jlO"
      }
    },
    {
      "cell_type": "code",
      "source": [
        "# Creating training history object\n",
        "training_history = inference._summary\n",
        "\n",
        "plt.plot([-item for item in training_history[\"training_log_probs\"]], label = \"Training\")\n",
        "plt.plot([-item for item in training_history[\"validation_log_probs\"]], label=\"Validation\")\n",
        "plt.xlabel(\"Epochs\")\n",
        "plt.ylabel(\"-LogProb\")\n",
        "plt.grid(alpha=0.3)\n",
        "plt.legend()"
      ],
      "metadata": {
        "colab": {
          "base_uri": "https://localhost:8080/",
          "height": 466
        },
        "id": "HjF8ViqGCtD1",
        "outputId": "a6f674a4-10d9-480c-dd2f-ed120f208e1d"
      },
      "execution_count": null,
      "outputs": [
        {
          "output_type": "execute_result",
          "data": {
            "text/plain": [
              "<matplotlib.legend.Legend at 0x7a4ee257b9d0>"
            ]
          },
          "metadata": {},
          "execution_count": 45
        },
        {
          "output_type": "display_data",
          "data": {
            "text/plain": [
              "<Figure size 640x480 with 1 Axes>"
            ],
            "image/png": "[encoded data removed]"
          },
          "metadata": {}
        }
      ]
    },
    {
      "cell_type": "markdown",
      "source": [
        "With the density estimator trained, we can finally create the `posterior` object, capable of generating posterior distributions for new observations"
      ],
      "metadata": {
        "id": "0LyoiNVh0RgH"
      }
    },
    {
      "cell_type": "code",
      "source": [
        "posterior = inference.build_posterior(density_estimator)"
      ],
      "metadata": {
        "id": "ieA4o_aG0UVv"
      },
      "execution_count": null,
      "outputs": []
    },
    {
      "cell_type": "markdown",
      "source": [
        "# Evaluating the trained model\n",
        "\n",
        "To test how well our trained model works, we'll simulate a new dataset with the same parameter distributions but a different seed."
      ],
      "metadata": {
        "id": "NHuTS06G2FQA"
      }
    },
    {
      "cell_type": "code",
      "source": [
        "# Downloading custom configuration file for the simulator\n",
        "!wget -q https://raw.githubusercontent.com/VitorSRamos/III_LeGaC_Hand_On/main/test_configuration_file.yaml"
      ],
      "metadata": {
        "id": "9n-9EbXvCj5Z"
      },
      "execution_count": null,
      "outputs": []
    },
    {
      "cell_type": "code",
      "source": [
        "test_dataset = dl.make_dataset(\"test_configuration_file.yaml\", verbose=True,)"
      ],
      "metadata": {
        "colab": {
          "base_uri": "https://localhost:8080/"
        },
        "id": "g9K_F7mgDPoA",
        "outputId": "1021b0ee-5bae-4b0a-bd58-47507a5b9981"
      },
      "execution_count": null,
      "outputs": [
        {
          "output_type": "stream",
          "name": "stdout",
          "text": [
            "Entering main organization loop\n",
            "Organizing CONFIGURATION_1\n",
            "Generating images for CONFIGURATION_1\n",
            "\tProgress: 100.0 %  ---  Elapsed Time: 0 H 0 M 44 S         \n"
          ]
        }
      ]
    },
    {
      "cell_type": "code",
      "source": [
        "test_images = torch.tensor(test_dataset.CONFIGURATION_1_images, device=\"cpu\")\n",
        "test_params = torch.tensor(np.expand_dims(test_dataset.CONFIGURATION_1_metadata[\"PLANE_1-OBJECT_1-MASS_PROFILE_1-theta_E-g\"], axis=-1), device=\"cpu\")\n",
        "\n",
        "print(test_images.shape)\n",
        "print(test_params.shape)"
      ],
      "metadata": {
        "colab": {
          "base_uri": "https://localhost:8080/"
        },
        "id": "RyTzN87_EfQ2",
        "outputId": "c7cea1b8-719f-497d-b783-6ba5d3125bb2"
      },
      "execution_count": null,
      "outputs": [
        {
          "output_type": "stream",
          "name": "stdout",
          "text": [
            "torch.Size([1000, 4, 87, 87])\n",
            "torch.Size([1000, 1])\n"
          ]
        }
      ]
    },
    {
      "cell_type": "markdown",
      "source": [
        "## Analyzing a single image\n",
        "We start by analyzing the posterior distribution for a single image in the test set. We generate the posterior by"
      ],
      "metadata": {
        "id": "jPbqsMkm6DGn"
      }
    },
    {
      "cell_type": "markdown",
      "source": [
        "To build the posterior distribution for an observation, we pass the image to the posterior object and sample from the probability distribution. We can plot a histogram of the samples taken from the posterior to see what it looks like and compare it to the"
      ],
      "metadata": {
        "id": "ytKDW9NJ6qo_"
      }
    },
    {
      "cell_type": "code",
      "source": [
        "image_index = 3 # we pick an index for an element in the test set to analyze\n",
        "\n",
        "samples = posterior.set_default_x(test_images[image_index]).sample((1000,), show_progress_bars=False).cpu()"
      ],
      "metadata": {
        "id": "h0c-VCZN6oW8"
      },
      "execution_count": null,
      "outputs": []
    },
    {
      "cell_type": "code",
      "source": [
        "print(samples.shape)"
      ],
      "metadata": {
        "colab": {
          "base_uri": "https://localhost:8080/"
        },
        "id": "RfGsclrxgeD0",
        "outputId": "ed654ee5-bcc2-423d-99db-6113ae7d181d"
      },
      "execution_count": null,
      "outputs": [
        {
          "output_type": "stream",
          "name": "stdout",
          "text": [
            "torch.Size([1000, 1])\n"
          ]
        }
      ]
    },
    {
      "cell_type": "code",
      "source": [
        "plt.hist(samples[:,0], bins=60)\n",
        "plt.axvline(test_params[image_index], color=\"red\")"
      ],
      "metadata": {
        "colab": {
          "base_uri": "https://localhost:8080/",
          "height": 447
        },
        "id": "JKGOEqaT7lFO",
        "outputId": "fcb62c4a-d8a7-4b0a-91e3-8bdba720cd07"
      },
      "execution_count": null,
      "outputs": [
        {
          "output_type": "execute_result",
          "data": {
            "text/plain": [
              "<matplotlib.lines.Line2D at 0x7a4ee2c0bdf0>"
            ]
          },
          "metadata": {},
          "execution_count": 84
        },
        {
          "output_type": "display_data",
          "data": {
            "text/plain": [
              "<Figure size 640x480 with 1 Axes>"
            ],
            "image/png": "[encoded data removed]"
          },
          "metadata": {}
        }
      ]
    },
    {
      "cell_type": "markdown",
      "source": [
        "## Full Dataset\n",
        "For the full dataset, we analyze the behavior of the posterior by looking at relevant statistics"
      ],
      "metadata": {
        "id": "bmw37VRq6mHT"
      }
    },
    {
      "cell_type": "code",
      "source": [
        "from scipy.stats import percentileofscore"
      ],
      "metadata": {
        "id": "OFTF7lZ6D4yC"
      },
      "execution_count": null,
      "outputs": []
    },
    {
      "cell_type": "code",
      "source": [
        "posterior_samples=[]\n",
        "predictions = []\n",
        "sigma_plus = []\n",
        "sigma_minus = []\n",
        "percentile_of_true=[]\n",
        "\n",
        "for index, image in enumerate(test_images):\n",
        "    samples = posterior.set_default_x(image).sample((500,), show_progress_bars=False).cpu() # the samples from each posterior\n",
        "    posterior_samples.append(samples)\n",
        "    predictions.append(np.median(samples.cpu())) # a list of the median value (interpreted as the model predictions)\n",
        "    sigma_plus.append(np.quantile(samples, 0.84))\n",
        "    sigma_minus.append(np.quantile(samples, 0.16))\n",
        "    percentile_of_true.append(percentileofscore(samples[:,0], test_params[index])) # a list of the percentiles that contain the true value for each posterior\n",
        "\n",
        "posterior_samples = np.stack(posterior_samples)\n",
        "predictions = np.stack(predictions)"
      ],
      "metadata": {
        "id": "BRKf9i7uFNsq"
      },
      "execution_count": null,
      "outputs": []
    },
    {
      "cell_type": "code",
      "source": [
        "plt.scatter(test_params.cpu(), predictions, s=1, alpha = 0.6)\n",
        "plt.plot([1,4], [1,4], '--k')\n",
        "plt.xlabel(\"True\")\n",
        "plt.ylabel(\"Predicted\")"
      ],
      "metadata": {
        "colab": {
          "base_uri": "https://localhost:8080/",
          "height": 447
        },
        "id": "B7IvsgSCGakZ",
        "outputId": "3d86b6be-a951-477e-e5fd-cb55f6330d75"
      },
      "execution_count": null,
      "outputs": [
        {
          "output_type": "execute_result",
          "data": {
            "text/plain": [
              "[<matplotlib.lines.Line2D at 0x7a4ee152cb80>]"
            ]
          },
          "metadata": {},
          "execution_count": 52
        },
        {
          "output_type": "display_data",
          "data": {
            "text/plain": [
              "<Figure size 640x480 with 1 Axes>"
            ],
            "image/png": "[encoded data removed]"
          },
          "metadata": {}
        }
      ]
    },
    {
      "cell_type": "markdown",
      "source": [
        "To analzse the uncertainties generated by the model, we need a more sophisticated plot"
      ],
      "metadata": {
        "id": "ygD194RVHyGW"
      }
    },
    {
      "cell_type": "code",
      "source": [
        "results = pd.DataFrame(data={\"True\":test_params[:,0],\n",
        "                             \"Pred\":predictions,\n",
        "                             \"sigma_plus\":sigma_plus,\n",
        "                             \"sigma_minus\":sigma_minus,\n",
        "                             \"percentile_of_true\":percentile_of_true})\n",
        "results.head()"
      ],
      "metadata": {
        "colab": {
          "base_uri": "https://localhost:8080/",
          "height": 206
        },
        "id": "UW68uJEzE_S5",
        "outputId": "bf140ccc-d901-4e02-f858-2151c935a0e5"
      },
      "execution_count": null,
      "outputs": [
        {
          "output_type": "execute_result",
          "data": {
            "text/plain": [
              "       True      Pred  sigma_plus  sigma_minus   percentile_of_true\n",
              "0  3.915886  3.791562    3.893259     3.669125  [89.60000000000001]\n",
              "1  2.157942  1.981410    2.152805     1.796155               [85.0]\n",
              "2  1.466169  1.274492    1.399068     1.130809  [91.80000000000001]\n",
              "3  1.200764  1.131936    1.233279     1.038457               [76.0]\n",
              "4  2.328618  2.195927    2.368743     2.019870               [77.4]"
            ],
            "text/html": [
              "\n",
              "  <div id=\"df-d5dfe12f-eed2-49cc-b391-9401ffd7b6b0\" class=\"colab-df-container\">\n",
              "    <div>\n",
              "<style scoped>\n",
              "    .dataframe tbody tr th:only-of-type {\n",
              "        vertical-align: middle;\n",
              "    }\n",
              "\n",
              "    .dataframe tbody tr th {\n",
              "        vertical-align: top;\n",
              "    }\n",
              "\n",
              "    .dataframe thead th {\n",
              "        text-align: right;\n",
              "    }\n",
              "</style>\n",
              "<table border=\"1\" class=\"dataframe\">\n",
              "  <thead>\n",
              "    <tr style=\"text-align: right;\">\n",
              "      <th></th>\n",
              "      <th>True</th>\n",
              "      <th>Pred</th>\n",
              "      <th>sigma_plus</th>\n",
              "      <th>sigma_minus</th>\n",
              "      <th>percentile_of_true</th>\n",
              "    </tr>\n",
              "  </thead>\n",
              "  <tbody>\n",
              "    <tr>\n",
              "      <th>0</th>\n",
              "      <td>3.915886</td>\n",
              "      <td>3.791562</td>\n",
              "      <td>3.893259</td>\n",
              "      <td>3.669125</td>\n",
              "      <td>[89.60000000000001]</td>\n",
              "    </tr>\n",
              "    <tr>\n",
              "      <th>1</th>\n",
              "      <td>2.157942</td>\n",
              "      <td>1.981410</td>\n",
              "      <td>2.152805</td>\n",
              "      <td>1.796155</td>\n",
              "      <td>[85.0]</td>\n",
              "    </tr>\n",
              "    <tr>\n",
              "      <th>2</th>\n",
              "      <td>1.466169</td>\n",
              "      <td>1.274492</td>\n",
              "      <td>1.399068</td>\n",
              "      <td>1.130809</td>\n",
              "      <td>[91.80000000000001]</td>\n",
              "    </tr>\n",
              "    <tr>\n",
              "      <th>3</th>\n",
              "      <td>1.200764</td>\n",
              "      <td>1.131936</td>\n",
              "      <td>1.233279</td>\n",
              "      <td>1.038457</td>\n",
              "      <td>[76.0]</td>\n",
              "    </tr>\n",
              "    <tr>\n",
              "      <th>4</th>\n",
              "      <td>2.328618</td>\n",
              "      <td>2.195927</td>\n",
              "      <td>2.368743</td>\n",
              "      <td>2.019870</td>\n",
              "      <td>[77.4]</td>\n",
              "    </tr>\n",
              "  </tbody>\n",
              "</table>\n",
              "</div>\n",
              "    <div class=\"colab-df-buttons\">\n",
              "\n",
              "  <div class=\"colab-df-container\">\n",
              "    <button class=\"colab-df-convert\" onclick=\"convertToInteractive('df-d5dfe12f-eed2-49cc-b391-9401ffd7b6b0')\"\n",
              "            title=\"Convert this dataframe to an interactive table.\"\n",
              "            style=\"display:none;\">\n",
              "\n",
              "  <svg xmlns=\"http://www.w3.org/2000/svg\" height=\"24px\" viewBox=\"0 -960 960 960\">\n",
              "    <path d=\"M120-120v-720h720v720H120Zm60-500h600v-160H180v160Zm220 220h160v-160H400v160Zm0 220h160v-160H400v160ZM180-400h160v-160H180v160Zm440 0h160v-160H620v160ZM180-180h160v-160H180v160Zm440 0h160v-160H620v160Z\"/>\n",
              "  </svg>\n",
              "    </button>\n",
              "\n",
              "  <style>\n",
              "    .colab-df-container {\n",
              "      display:flex;\n",
              "      gap: 12px;\n",
              "    }\n",
              "\n",
              "    .colab-df-convert {\n",
              "      background-color: #E8F0FE;\n",
              "      border: none;\n",
              "      border-radius: 50%;\n",
              "      cursor: pointer;\n",
              "      display: none;\n",
              "      fill: #1967D2;\n",
              "      height: 32px;\n",
              "      padding: 0 0 0 0;\n",
              "      width: 32px;\n",
              "    }\n",
              "\n",
              "    .colab-df-convert:hover {\n",
              "      background-color: #E2EBFA;\n",
              "      box-shadow: 0px 1px 2px rgba(60, 64, 67, 0.3), 0px 1px 3px 1px rgba(60, 64, 67, 0.15);\n",
              "      fill: #174EA6;\n",
              "    }\n",
              "\n",
              "    .colab-df-buttons div {\n",
              "      margin-bottom: 4px;\n",
              "    }\n",
              "\n",
              "    [theme=dark] .colab-df-convert {\n",
              "      background-color: #3B4455;\n",
              "      fill: #D2E3FC;\n",
              "    }\n",
              "\n",
              "    [theme=dark] .colab-df-convert:hover {\n",
              "      background-color: #434B5C;\n",
              "      box-shadow: 0px 1px 3px 1px rgba(0, 0, 0, 0.15);\n",
              "      filter: drop-shadow(0px 1px 2px rgba(0, 0, 0, 0.3));\n",
              "      fill: #FFFFFF;\n",
              "    }\n",
              "  </style>\n",
              "\n",
              "    <script>\n",
              "      const buttonEl =\n",
              "        document.querySelector('#df-d5dfe12f-eed2-49cc-b391-9401ffd7b6b0 button.colab-df-convert');\n",
              "      buttonEl.style.display =\n",
              "        google.colab.kernel.accessAllowed ? 'block' : 'none';\n",
              "\n",
              "      async function convertToInteractive(key) {\n",
              "        const element = document.querySelector('#df-d5dfe12f-eed2-49cc-b391-9401ffd7b6b0');\n",
              "        const dataTable =\n",
              "          await google.colab.kernel.invokeFunction('convertToInteractive',\n",
              "                                                    [key], {});\n",
              "        if (!dataTable) return;\n",
              "\n",
              "        const docLinkHtml = 'Like what you see? Visit the ' +\n",
              "          '<a target=\"_blank\" href=https://colab.research.google.com/notebooks/data_table.ipynb>data table notebook</a>'\n",
              "          + ' to learn more about interactive tables.';\n",
              "        element.innerHTML = '';\n",
              "        dataTable['output_type'] = 'display_data';\n",
              "        await google.colab.output.renderOutput(dataTable, element);\n",
              "        const docLink = document.createElement('div');\n",
              "        docLink.innerHTML = docLinkHtml;\n",
              "        element.appendChild(docLink);\n",
              "      }\n",
              "    </script>\n",
              "  </div>\n",
              "\n",
              "\n",
              "<div id=\"df-6d9468c6-38a2-4c7a-bd44-6b26d9008f5a\">\n",
              "  <button class=\"colab-df-quickchart\" onclick=\"quickchart('df-6d9468c6-38a2-4c7a-bd44-6b26d9008f5a')\"\n",
              "            title=\"Suggest charts\"\n",
              "            style=\"display:none;\">\n",
              "\n",
              "<svg xmlns=\"http://www.w3.org/2000/svg\" height=\"24px\"viewBox=\"0 0 24 24\"\n",
              "     width=\"24px\">\n",
              "    <g>\n",
              "        <path d=\"M19 3H5c-1.1 0-2 .9-2 2v14c0 1.1.9 2 2 2h14c1.1 0 2-.9 2-2V5c0-1.1-.9-2-2-2zM9 17H7v-7h2v7zm4 0h-2V7h2v10zm4 0h-2v-4h2v4z\"/>\n",
              "    </g>\n",
              "</svg>\n",
              "  </button>\n",
              "\n",
              "<style>\n",
              "  .colab-df-quickchart {\n",
              "      --bg-color: #E8F0FE;\n",
              "      --fill-color: #1967D2;\n",
              "      --hover-bg-color: #E2EBFA;\n",
              "      --hover-fill-color: #174EA6;\n",
              "      --disabled-fill-color: #AAA;\n",
              "      --disabled-bg-color: #DDD;\n",
              "  }\n",
              "\n",
              "  [theme=dark] .colab-df-quickchart {\n",
              "      --bg-color: #3B4455;\n",
              "      --fill-color: #D2E3FC;\n",
              "      --hover-bg-color: #434B5C;\n",
              "      --hover-fill-color: #FFFFFF;\n",
              "      --disabled-bg-color: #3B4455;\n",
              "      --disabled-fill-color: #666;\n",
              "  }\n",
              "\n",
              "  .colab-df-quickchart {\n",
              "    background-color: var(--bg-color);\n",
              "    border: none;\n",
              "    border-radius: 50%;\n",
              "    cursor: pointer;\n",
              "    display: none;\n",
              "    fill: var(--fill-color);\n",
              "    height: 32px;\n",
              "    padding: 0;\n",
              "    width: 32px;\n",
              "  }\n",
              "\n",
              "  .colab-df-quickchart:hover {\n",
              "    background-color: var(--hover-bg-color);\n",
              "    box-shadow: 0 1px 2px rgba(60, 64, 67, 0.3), 0 1px 3px 1px rgba(60, 64, 67, 0.15);\n",
              "    fill: var(--button-hover-fill-color);\n",
              "  }\n",
              "\n",
              "  .colab-df-quickchart-complete:disabled,\n",
              "  .colab-df-quickchart-complete:disabled:hover {\n",
              "    background-color: var(--disabled-bg-color);\n",
              "    fill: var(--disabled-fill-color);\n",
              "    box-shadow: none;\n",
              "  }\n",
              "\n",
              "  .colab-df-spinner {\n",
              "    border: 2px solid var(--fill-color);\n",
              "    border-color: transparent;\n",
              "    border-bottom-color: var(--fill-color);\n",
              "    animation:\n",
              "      spin 1s steps(1) infinite;\n",
              "  }\n",
              "\n",
              "  @keyframes spin {\n",
              "    0% {\n",
              "      border-color: transparent;\n",
              "      border-bottom-color: var(--fill-color);\n",
              "      border-left-color: var(--fill-color);\n",
              "    }\n",
              "    20% {\n",
              "      border-color: transparent;\n",
              "      border-left-color: var(--fill-color);\n",
              "      border-top-color: var(--fill-color);\n",
              "    }\n",
              "    30% {\n",
              "      border-color: transparent;\n",
              "      border-left-color: var(--fill-color);\n",
              "      border-top-color: var(--fill-color);\n",
              "      border-right-color: var(--fill-color);\n",
              "    }\n",
              "    40% {\n",
              "      border-color: transparent;\n",
              "      border-right-color: var(--fill-color);\n",
              "      border-top-color: var(--fill-color);\n",
              "    }\n",
              "    60% {\n",
              "      border-color: transparent;\n",
              "      border-right-color: var(--fill-color);\n",
              "    }\n",
              "    80% {\n",
              "      border-color: transparent;\n",
              "      border-right-color: var(--fill-color);\n",
              "      border-bottom-color: var(--fill-color);\n",
              "    }\n",
              "    90% {\n",
              "      border-color: transparent;\n",
              "      border-bottom-color: var(--fill-color);\n",
              "    }\n",
              "  }\n",
              "</style>\n",
              "\n",
              "  <script>\n",
              "    async function quickchart(key) {\n",
              "      const quickchartButtonEl =\n",
              "        document.querySelector('#' + key + ' button');\n",
              "      quickchartButtonEl.disabled = true;  // To prevent multiple clicks.\n",
              "      quickchartButtonEl.classList.add('colab-df-spinner');\n",
              "      try {\n",
              "        const charts = await google.colab.kernel.invokeFunction(\n",
              "            'suggestCharts', [key], {});\n",
              "      } catch (error) {\n",
              "        console.error('Error during call to suggestCharts:', error);\n",
              "      }\n",
              "      quickchartButtonEl.classList.remove('colab-df-spinner');\n",
              "      quickchartButtonEl.classList.add('colab-df-quickchart-complete');\n",
              "    }\n",
              "    (() => {\n",
              "      let quickchartButtonEl =\n",
              "        document.querySelector('#df-6d9468c6-38a2-4c7a-bd44-6b26d9008f5a button');\n",
              "      quickchartButtonEl.style.display =\n",
              "        google.colab.kernel.accessAllowed ? 'block' : 'none';\n",
              "    })();\n",
              "  </script>\n",
              "</div>\n",
              "\n",
              "    </div>\n",
              "  </div>\n"
            ],
            "application/vnd.google.colaboratory.intrinsic+json": {
              "type": "dataframe",
              "variable_name": "results",
              "summary": "{\n  \"name\": \"results\",\n  \"rows\": 1000,\n  \"fields\": [\n    {\n      \"column\": \"True\",\n      \"properties\": {\n        \"dtype\": \"number\",\n        \"std\": 0.8480458860759968,\n        \"min\": 1.005715341259207,\n        \"max\": 3.999940238850037,\n        \"num_unique_values\": 1000,\n        \"samples\": [\n          3.5023771590650243,\n          2.0626354409419108,\n          1.1107469519258977\n        ],\n        \"semantic_type\": \"\",\n        \"description\": \"\"\n      }\n    },\n    {\n      \"column\": \"Pred\",\n      \"properties\": {\n        \"dtype\": \"float32\",\n        \"num_unique_values\": 1000,\n        \"samples\": [\n          3.5642285346984863,\n          2.030625820159912,\n          1.183366060256958\n        ],\n        \"semantic_type\": \"\",\n        \"description\": \"\"\n      }\n    },\n    {\n      \"column\": \"sigma_plus\",\n      \"properties\": {\n        \"dtype\": \"number\",\n        \"std\": 0.8331289313382142,\n        \"min\": 1.0267326927185059,\n        \"max\": 4.00562084197998,\n        \"num_unique_values\": 1000,\n        \"samples\": [\n          3.694810905456543,\n          2.215431098937988,\n          1.2928407096862793\n        ],\n        \"semantic_type\": \"\",\n        \"description\": \"\"\n      }\n    },\n    {\n      \"column\": \"sigma_minus\",\n      \"properties\": {\n        \"dtype\": \"number\",\n        \"std\": 0.8645009103026116,\n        \"min\": 0.9254326558113098,\n        \"max\": 3.909430618286133,\n        \"num_unique_values\": 1000,\n        \"samples\": [\n          3.4518697357177732,\n          1.8531770420074463,\n          1.0752357530593872\n        ],\n        \"semantic_type\": \"\",\n        \"description\": \"\"\n      }\n    },\n    {\n      \"column\": \"percentile_of_true\",\n      \"properties\": {\n        \"dtype\": \"object\",\n        \"semantic_type\": \"\",\n        \"description\": \"\"\n      }\n    }\n  ]\n}"
            }
          },
          "metadata": {},
          "execution_count": 53
        }
      ]
    },
    {
      "cell_type": "code",
      "source": [
        "binned_results = results.groupby(pd.cut(results[\"True\"], 30)).agg('mean')\n",
        "binned_results.head()"
      ],
      "metadata": {
        "colab": {
          "base_uri": "https://localhost:8080/",
          "height": 238
        },
        "id": "KlKURSOvFqQ1",
        "outputId": "812f5c41-d3b6-4d9a-d393-1f2e3cfe964d"
      },
      "execution_count": null,
      "outputs": [
        {
          "output_type": "execute_result",
          "data": {
            "text/plain": [
              "                    True      Pred  sigma_plus  sigma_minus  \\\n",
              "True                                                          \n",
              "(1.003, 1.106]  1.053272  1.194402    1.309080     1.083316   \n",
              "(1.106, 1.205]  1.166491  1.254073    1.373758     1.117923   \n",
              "(1.205, 1.305]  1.248023  1.296503    1.420097     1.154597   \n",
              "(1.305, 1.405]  1.356637  1.378133    1.515965     1.202594   \n",
              "(1.405, 1.505]  1.449813  1.371664    1.508863     1.192204   \n",
              "\n",
              "                 percentile_of_true  \n",
              "True                                 \n",
              "(1.003, 1.106]  [18.91794871794872]  \n",
              "(1.106, 1.205]  [37.90000000000002]  \n",
              "(1.205, 1.305]  [51.85333333333333]  \n",
              "(1.305, 1.405]  [56.91428571428572]  \n",
              "(1.405, 1.505]  [70.36666666666667]  "
            ],
            "text/html": [
              "\n",
              "  <div id=\"df-b032cc87-8c5c-4062-befa-2ebf21c7b99b\" class=\"colab-df-container\">\n",
              "    <div>\n",
              "<style scoped>\n",
              "    .dataframe tbody tr th:only-of-type {\n",
              "        vertical-align: middle;\n",
              "    }\n",
              "\n",
              "    .dataframe tbody tr th {\n",
              "        vertical-align: top;\n",
              "    }\n",
              "\n",
              "    .dataframe thead th {\n",
              "        text-align: right;\n",
              "    }\n",
              "</style>\n",
              "<table border=\"1\" class=\"dataframe\">\n",
              "  <thead>\n",
              "    <tr style=\"text-align: right;\">\n",
              "      <th></th>\n",
              "      <th>True</th>\n",
              "      <th>Pred</th>\n",
              "      <th>sigma_plus</th>\n",
              "      <th>sigma_minus</th>\n",
              "      <th>percentile_of_true</th>\n",
              "    </tr>\n",
              "    <tr>\n",
              "      <th>True</th>\n",
              "      <th></th>\n",
              "      <th></th>\n",
              "      <th></th>\n",
              "      <th></th>\n",
              "      <th></th>\n",
              "    </tr>\n",
              "  </thead>\n",
              "  <tbody>\n",
              "    <tr>\n",
              "      <th>(1.003, 1.106]</th>\n",
              "      <td>1.053272</td>\n",
              "      <td>1.194402</td>\n",
              "      <td>1.309080</td>\n",
              "      <td>1.083316</td>\n",
              "      <td>[18.91794871794872]</td>\n",
              "    </tr>\n",
              "    <tr>\n",
              "      <th>(1.106, 1.205]</th>\n",
              "      <td>1.166491</td>\n",
              "      <td>1.254073</td>\n",
              "      <td>1.373758</td>\n",
              "      <td>1.117923</td>\n",
              "      <td>[37.90000000000002]</td>\n",
              "    </tr>\n",
              "    <tr>\n",
              "      <th>(1.205, 1.305]</th>\n",
              "      <td>1.248023</td>\n",
              "      <td>1.296503</td>\n",
              "      <td>1.420097</td>\n",
              "      <td>1.154597</td>\n",
              "      <td>[51.85333333333333]</td>\n",
              "    </tr>\n",
              "    <tr>\n",
              "      <th>(1.305, 1.405]</th>\n",
              "      <td>1.356637</td>\n",
              "      <td>1.378133</td>\n",
              "      <td>1.515965</td>\n",
              "      <td>1.202594</td>\n",
              "      <td>[56.91428571428572]</td>\n",
              "    </tr>\n",
              "    <tr>\n",
              "      <th>(1.405, 1.505]</th>\n",
              "      <td>1.449813</td>\n",
              "      <td>1.371664</td>\n",
              "      <td>1.508863</td>\n",
              "      <td>1.192204</td>\n",
              "      <td>[70.36666666666667]</td>\n",
              "    </tr>\n",
              "  </tbody>\n",
              "</table>\n",
              "</div>\n",
              "    <div class=\"colab-df-buttons\">\n",
              "\n",
              "  <div class=\"colab-df-container\">\n",
              "    <button class=\"colab-df-convert\" onclick=\"convertToInteractive('df-b032cc87-8c5c-4062-befa-2ebf21c7b99b')\"\n",
              "            title=\"Convert this dataframe to an interactive table.\"\n",
              "            style=\"display:none;\">\n",
              "\n",
              "  <svg xmlns=\"http://www.w3.org/2000/svg\" height=\"24px\" viewBox=\"0 -960 960 960\">\n",
              "    <path d=\"M120-120v-720h720v720H120Zm60-500h600v-160H180v160Zm220 220h160v-160H400v160Zm0 220h160v-160H400v160ZM180-400h160v-160H180v160Zm440 0h160v-160H620v160ZM180-180h160v-160H180v160Zm440 0h160v-160H620v160Z\"/>\n",
              "  </svg>\n",
              "    </button>\n",
              "\n",
              "  <style>\n",
              "    .colab-df-container {\n",
              "      display:flex;\n",
              "      gap: 12px;\n",
              "    }\n",
              "\n",
              "    .colab-df-convert {\n",
              "      background-color: #E8F0FE;\n",
              "      border: none;\n",
              "      border-radius: 50%;\n",
              "      cursor: pointer;\n",
              "      display: none;\n",
              "      fill: #1967D2;\n",
              "      height: 32px;\n",
              "      padding: 0 0 0 0;\n",
              "      width: 32px;\n",
              "    }\n",
              "\n",
              "    .colab-df-convert:hover {\n",
              "      background-color: #E2EBFA;\n",
              "      box-shadow: 0px 1px 2px rgba(60, 64, 67, 0.3), 0px 1px 3px 1px rgba(60, 64, 67, 0.15);\n",
              "      fill: #174EA6;\n",
              "    }\n",
              "\n",
              "    .colab-df-buttons div {\n",
              "      margin-bottom: 4px;\n",
              "    }\n",
              "\n",
              "    [theme=dark] .colab-df-convert {\n",
              "      background-color: #3B4455;\n",
              "      fill: #D2E3FC;\n",
              "    }\n",
              "\n",
              "    [theme=dark] .colab-df-convert:hover {\n",
              "      background-color: #434B5C;\n",
              "      box-shadow: 0px 1px 3px 1px rgba(0, 0, 0, 0.15);\n",
              "      filter: drop-shadow(0px 1px 2px rgba(0, 0, 0, 0.3));\n",
              "      fill: #FFFFFF;\n",
              "    }\n",
              "  </style>\n",
              "\n",
              "    <script>\n",
              "      const buttonEl =\n",
              "        document.querySelector('#df-b032cc87-8c5c-4062-befa-2ebf21c7b99b button.colab-df-convert');\n",
              "      buttonEl.style.display =\n",
              "        google.colab.kernel.accessAllowed ? 'block' : 'none';\n",
              "\n",
              "      async function convertToInteractive(key) {\n",
              "        const element = document.querySelector('#df-b032cc87-8c5c-4062-befa-2ebf21c7b99b');\n",
              "        const dataTable =\n",
              "          await google.colab.kernel.invokeFunction('convertToInteractive',\n",
              "                                                    [key], {});\n",
              "        if (!dataTable) return;\n",
              "\n",
              "        const docLinkHtml = 'Like what you see? Visit the ' +\n",
              "          '<a target=\"_blank\" href=https://colab.research.google.com/notebooks/data_table.ipynb>data table notebook</a>'\n",
              "          + ' to learn more about interactive tables.';\n",
              "        element.innerHTML = '';\n",
              "        dataTable['output_type'] = 'display_data';\n",
              "        await google.colab.output.renderOutput(dataTable, element);\n",
              "        const docLink = document.createElement('div');\n",
              "        docLink.innerHTML = docLinkHtml;\n",
              "        element.appendChild(docLink);\n",
              "      }\n",
              "    </script>\n",
              "  </div>\n",
              "\n",
              "\n",
              "<div id=\"df-8bfc2c85-14b4-455b-80d6-d89f8d8d852e\">\n",
              "  <button class=\"colab-df-quickchart\" onclick=\"quickchart('df-8bfc2c85-14b4-455b-80d6-d89f8d8d852e')\"\n",
              "            title=\"Suggest charts\"\n",
              "            style=\"display:none;\">\n",
              "\n",
              "<svg xmlns=\"http://www.w3.org/2000/svg\" height=\"24px\"viewBox=\"0 0 24 24\"\n",
              "     width=\"24px\">\n",
              "    <g>\n",
              "        <path d=\"M19 3H5c-1.1 0-2 .9-2 2v14c0 1.1.9 2 2 2h14c1.1 0 2-.9 2-2V5c0-1.1-.9-2-2-2zM9 17H7v-7h2v7zm4 0h-2V7h2v10zm4 0h-2v-4h2v4z\"/>\n",
              "    </g>\n",
              "</svg>\n",
              "  </button>\n",
              "\n",
              "<style>\n",
              "  .colab-df-quickchart {\n",
              "      --bg-color: #E8F0FE;\n",
              "      --fill-color: #1967D2;\n",
              "      --hover-bg-color: #E2EBFA;\n",
              "      --hover-fill-color: #174EA6;\n",
              "      --disabled-fill-color: #AAA;\n",
              "      --disabled-bg-color: #DDD;\n",
              "  }\n",
              "\n",
              "  [theme=dark] .colab-df-quickchart {\n",
              "      --bg-color: #3B4455;\n",
              "      --fill-color: #D2E3FC;\n",
              "      --hover-bg-color: #434B5C;\n",
              "      --hover-fill-color: #FFFFFF;\n",
              "      --disabled-bg-color: #3B4455;\n",
              "      --disabled-fill-color: #666;\n",
              "  }\n",
              "\n",
              "  .colab-df-quickchart {\n",
              "    background-color: var(--bg-color);\n",
              "    border: none;\n",
              "    border-radius: 50%;\n",
              "    cursor: pointer;\n",
              "    display: none;\n",
              "    fill: var(--fill-color);\n",
              "    height: 32px;\n",
              "    padding: 0;\n",
              "    width: 32px;\n",
              "  }\n",
              "\n",
              "  .colab-df-quickchart:hover {\n",
              "    background-color: var(--hover-bg-color);\n",
              "    box-shadow: 0 1px 2px rgba(60, 64, 67, 0.3), 0 1px 3px 1px rgba(60, 64, 67, 0.15);\n",
              "    fill: var(--button-hover-fill-color);\n",
              "  }\n",
              "\n",
              "  .colab-df-quickchart-complete:disabled,\n",
              "  .colab-df-quickchart-complete:disabled:hover {\n",
              "    background-color: var(--disabled-bg-color);\n",
              "    fill: var(--disabled-fill-color);\n",
              "    box-shadow: none;\n",
              "  }\n",
              "\n",
              "  .colab-df-spinner {\n",
              "    border: 2px solid var(--fill-color);\n",
              "    border-color: transparent;\n",
              "    border-bottom-color: var(--fill-color);\n",
              "    animation:\n",
              "      spin 1s steps(1) infinite;\n",
              "  }\n",
              "\n",
              "  @keyframes spin {\n",
              "    0% {\n",
              "      border-color: transparent;\n",
              "      border-bottom-color: var(--fill-color);\n",
              "      border-left-color: var(--fill-color);\n",
              "    }\n",
              "    20% {\n",
              "      border-color: transparent;\n",
              "      border-left-color: var(--fill-color);\n",
              "      border-top-color: var(--fill-color);\n",
              "    }\n",
              "    30% {\n",
              "      border-color: transparent;\n",
              "      border-left-color: var(--fill-color);\n",
              "      border-top-color: var(--fill-color);\n",
              "      border-right-color: var(--fill-color);\n",
              "    }\n",
              "    40% {\n",
              "      border-color: transparent;\n",
              "      border-right-color: var(--fill-color);\n",
              "      border-top-color: var(--fill-color);\n",
              "    }\n",
              "    60% {\n",
              "      border-color: transparent;\n",
              "      border-right-color: var(--fill-color);\n",
              "    }\n",
              "    80% {\n",
              "      border-color: transparent;\n",
              "      border-right-color: var(--fill-color);\n",
              "      border-bottom-color: var(--fill-color);\n",
              "    }\n",
              "    90% {\n",
              "      border-color: transparent;\n",
              "      border-bottom-color: var(--fill-color);\n",
              "    }\n",
              "  }\n",
              "</style>\n",
              "\n",
              "  <script>\n",
              "    async function quickchart(key) {\n",
              "      const quickchartButtonEl =\n",
              "        document.querySelector('#' + key + ' button');\n",
              "      quickchartButtonEl.disabled = true;  // To prevent multiple clicks.\n",
              "      quickchartButtonEl.classList.add('colab-df-spinner');\n",
              "      try {\n",
              "        const charts = await google.colab.kernel.invokeFunction(\n",
              "            'suggestCharts', [key], {});\n",
              "      } catch (error) {\n",
              "        console.error('Error during call to suggestCharts:', error);\n",
              "      }\n",
              "      quickchartButtonEl.classList.remove('colab-df-spinner');\n",
              "      quickchartButtonEl.classList.add('colab-df-quickchart-complete');\n",
              "    }\n",
              "    (() => {\n",
              "      let quickchartButtonEl =\n",
              "        document.querySelector('#df-8bfc2c85-14b4-455b-80d6-d89f8d8d852e button');\n",
              "      quickchartButtonEl.style.display =\n",
              "        google.colab.kernel.accessAllowed ? 'block' : 'none';\n",
              "    })();\n",
              "  </script>\n",
              "</div>\n",
              "\n",
              "    </div>\n",
              "  </div>\n"
            ],
            "application/vnd.google.colaboratory.intrinsic+json": {
              "type": "dataframe",
              "variable_name": "binned_results",
              "repr_error": "cannot insert True, already exists"
            }
          },
          "metadata": {},
          "execution_count": 54
        }
      ]
    },
    {
      "cell_type": "code",
      "source": [
        "plt.grid(alpha=0.6)\n",
        "plt.fill_between(binned_results[\"True\"], binned_results[\"sigma_minus\"], binned_results[\"sigma_plus\"], alpha=0.8)\n",
        "plt.plot(binned_results[\"True\"], binned_results[\"Pred\"], color=\"C8\")\n",
        "plt.plot([1,4], [1,4], '--k')\n",
        "plt.xlabel(\"True\")\n",
        "plt.ylabel(\"Predicted\")"
      ],
      "metadata": {
        "colab": {
          "base_uri": "https://localhost:8080/",
          "height": 447
        },
        "id": "HIpIH0QiGF34",
        "outputId": "145b5b6c-913c-4930-9a5d-b96f945a0e31"
      },
      "execution_count": null,
      "outputs": [
        {
          "output_type": "execute_result",
          "data": {
            "text/plain": [
              "[<matplotlib.lines.Line2D at 0x7a4ee1739510>]"
            ]
          },
          "metadata": {},
          "execution_count": 55
        },
        {
          "output_type": "display_data",
          "data": {
            "text/plain": [
              "<Figure size 640x480 with 1 Axes>"
            ],
            "image/png": "[encoded data removed]"
          },
          "metadata": {}
        }
      ]
    },
    {
      "cell_type": "markdown",
      "source": [
        "Finally, we can report some useful metrics"
      ],
      "metadata": {
        "id": "lzAhYCMYIBXa"
      }
    },
    {
      "cell_type": "code",
      "source": [
        "def get_precision(pred, sig_p, sig_m):\n",
        "    return 1 - (sig_p-sig_m)/pred\n",
        "\n",
        "def get_deviation(pred, true):\n",
        "    return (abs(pred-true))/pred\n",
        "\n",
        "results[\"Precision\"] = get_precision(results[\"Pred\"], results[\"sigma_plus\"], results[\"sigma_minus\"])\n",
        "results[\"Deviation\"] = get_deviation(results[\"Pred\"], results[\"True\"])\n",
        "results.head()"
      ],
      "metadata": {
        "colab": {
          "base_uri": "https://localhost:8080/",
          "height": 206
        },
        "id": "YqdGD4roIG35",
        "outputId": "70757428-65f0-4e8b-cd41-d4fcd0fd4856"
      },
      "execution_count": null,
      "outputs": [
        {
          "output_type": "execute_result",
          "data": {
            "text/plain": [
              "       True      Pred  sigma_plus  sigma_minus   percentile_of_true  \\\n",
              "0  3.915886  3.791562    3.893259     3.669125  [89.60000000000001]   \n",
              "1  2.157942  1.981410    2.152805     1.796155               [85.0]   \n",
              "2  1.466169  1.274492    1.399068     1.130809  [91.80000000000001]   \n",
              "3  1.200764  1.131936    1.233279     1.038457               [76.0]   \n",
              "4  2.328618  2.195927    2.368743     2.019870               [77.4]   \n",
              "\n",
              "   Precision  Deviation  \n",
              "0   0.940886   0.032790  \n",
              "1   0.820002   0.089094  \n",
              "2   0.789516   0.150395  \n",
              "3   0.827886   0.060806  \n",
              "4   0.841127   0.060426  "
            ],
            "text/html": [
              "\n",
              "  <div id=\"df-f841ee5f-e9f3-4d29-af2a-651897728158\" class=\"colab-df-container\">\n",
              "    <div>\n",
              "<style scoped>\n",
              "    .dataframe tbody tr th:only-of-type {\n",
              "        vertical-align: middle;\n",
              "    }\n",
              "\n",
              "    .dataframe tbody tr th {\n",
              "        vertical-align: top;\n",
              "    }\n",
              "\n",
              "    .dataframe thead th {\n",
              "        text-align: right;\n",
              "    }\n",
              "</style>\n",
              "<table border=\"1\" class=\"dataframe\">\n",
              "  <thead>\n",
              "    <tr style=\"text-align: right;\">\n",
              "      <th></th>\n",
              "      <th>True</th>\n",
              "      <th>Pred</th>\n",
              "      <th>sigma_plus</th>\n",
              "      <th>sigma_minus</th>\n",
              "      <th>percentile_of_true</th>\n",
              "      <th>Precision</th>\n",
              "      <th>Deviation</th>\n",
              "    </tr>\n",
              "  </thead>\n",
              "  <tbody>\n",
              "    <tr>\n",
              "      <th>0</th>\n",
              "      <td>3.915886</td>\n",
              "      <td>3.791562</td>\n",
              "      <td>3.893259</td>\n",
              "      <td>3.669125</td>\n",
              "      <td>[89.60000000000001]</td>\n",
              "      <td>0.940886</td>\n",
              "      <td>0.032790</td>\n",
              "    </tr>\n",
              "    <tr>\n",
              "      <th>1</th>\n",
              "      <td>2.157942</td>\n",
              "      <td>1.981410</td>\n",
              "      <td>2.152805</td>\n",
              "      <td>1.796155</td>\n",
              "      <td>[85.0]</td>\n",
              "      <td>0.820002</td>\n",
              "      <td>0.089094</td>\n",
              "    </tr>\n",
              "    <tr>\n",
              "      <th>2</th>\n",
              "      <td>1.466169</td>\n",
              "      <td>1.274492</td>\n",
              "      <td>1.399068</td>\n",
              "      <td>1.130809</td>\n",
              "      <td>[91.80000000000001]</td>\n",
              "      <td>0.789516</td>\n",
              "      <td>0.150395</td>\n",
              "    </tr>\n",
              "    <tr>\n",
              "      <th>3</th>\n",
              "      <td>1.200764</td>\n",
              "      <td>1.131936</td>\n",
              "      <td>1.233279</td>\n",
              "      <td>1.038457</td>\n",
              "      <td>[76.0]</td>\n",
              "      <td>0.827886</td>\n",
              "      <td>0.060806</td>\n",
              "    </tr>\n",
              "    <tr>\n",
              "      <th>4</th>\n",
              "      <td>2.328618</td>\n",
              "      <td>2.195927</td>\n",
              "      <td>2.368743</td>\n",
              "      <td>2.019870</td>\n",
              "      <td>[77.4]</td>\n",
              "      <td>0.841127</td>\n",
              "      <td>0.060426</td>\n",
              "    </tr>\n",
              "  </tbody>\n",
              "</table>\n",
              "</div>\n",
              "    <div class=\"colab-df-buttons\">\n",
              "\n",
              "  <div class=\"colab-df-container\">\n",
              "    <button class=\"colab-df-convert\" onclick=\"convertToInteractive('df-f841ee5f-e9f3-4d29-af2a-651897728158')\"\n",
              "            title=\"Convert this dataframe to an interactive table.\"\n",
              "            style=\"display:none;\">\n",
              "\n",
              "  <svg xmlns=\"http://www.w3.org/2000/svg\" height=\"24px\" viewBox=\"0 -960 960 960\">\n",
              "    <path d=\"M120-120v-720h720v720H120Zm60-500h600v-160H180v160Zm220 220h160v-160H400v160Zm0 220h160v-160H400v160ZM180-400h160v-160H180v160Zm440 0h160v-160H620v160ZM180-180h160v-160H180v160Zm440 0h160v-160H620v160Z\"/>\n",
              "  </svg>\n",
              "    </button>\n",
              "\n",
              "  <style>\n",
              "    .colab-df-container {\n",
              "      display:flex;\n",
              "      gap: 12px;\n",
              "    }\n",
              "\n",
              "    .colab-df-convert {\n",
              "      background-color: #E8F0FE;\n",
              "      border: none;\n",
              "      border-radius: 50%;\n",
              "      cursor: pointer;\n",
              "      display: none;\n",
              "      fill: #1967D2;\n",
              "      height: 32px;\n",
              "      padding: 0 0 0 0;\n",
              "      width: 32px;\n",
              "    }\n",
              "\n",
              "    .colab-df-convert:hover {\n",
              "      background-color: #E2EBFA;\n",
              "      box-shadow: 0px 1px 2px rgba(60, 64, 67, 0.3), 0px 1px 3px 1px rgba(60, 64, 67, 0.15);\n",
              "      fill: #174EA6;\n",
              "    }\n",
              "\n",
              "    .colab-df-buttons div {\n",
              "      margin-bottom: 4px;\n",
              "    }\n",
              "\n",
              "    [theme=dark] .colab-df-convert {\n",
              "      background-color: #3B4455;\n",
              "      fill: #D2E3FC;\n",
              "    }\n",
              "\n",
              "    [theme=dark] .colab-df-convert:hover {\n",
              "      background-color: #434B5C;\n",
              "      box-shadow: 0px 1px 3px 1px rgba(0, 0, 0, 0.15);\n",
              "      filter: drop-shadow(0px 1px 2px rgba(0, 0, 0, 0.3));\n",
              "      fill: #FFFFFF;\n",
              "    }\n",
              "  </style>\n",
              "\n",
              "    <script>\n",
              "      const buttonEl =\n",
              "        document.querySelector('#df-f841ee5f-e9f3-4d29-af2a-651897728158 button.colab-df-convert');\n",
              "      buttonEl.style.display =\n",
              "        google.colab.kernel.accessAllowed ? 'block' : 'none';\n",
              "\n",
              "      async function convertToInteractive(key) {\n",
              "        const element = document.querySelector('#df-f841ee5f-e9f3-4d29-af2a-651897728158');\n",
              "        const dataTable =\n",
              "          await google.colab.kernel.invokeFunction('convertToInteractive',\n",
              "                                                    [key], {});\n",
              "        if (!dataTable) return;\n",
              "\n",
              "        const docLinkHtml = 'Like what you see? Visit the ' +\n",
              "          '<a target=\"_blank\" href=https://colab.research.google.com/notebooks/data_table.ipynb>data table notebook</a>'\n",
              "          + ' to learn more about interactive tables.';\n",
              "        element.innerHTML = '';\n",
              "        dataTable['output_type'] = 'display_data';\n",
              "        await google.colab.output.renderOutput(dataTable, element);\n",
              "        const docLink = document.createElement('div');\n",
              "        docLink.innerHTML = docLinkHtml;\n",
              "        element.appendChild(docLink);\n",
              "      }\n",
              "    </script>\n",
              "  </div>\n",
              "\n",
              "\n",
              "<div id=\"df-ec3df74e-374d-4734-a828-150ce10de1fa\">\n",
              "  <button class=\"colab-df-quickchart\" onclick=\"quickchart('df-ec3df74e-374d-4734-a828-150ce10de1fa')\"\n",
              "            title=\"Suggest charts\"\n",
              "            style=\"display:none;\">\n",
              "\n",
              "<svg xmlns=\"http://www.w3.org/2000/svg\" height=\"24px\"viewBox=\"0 0 24 24\"\n",
              "     width=\"24px\">\n",
              "    <g>\n",
              "        <path d=\"M19 3H5c-1.1 0-2 .9-2 2v14c0 1.1.9 2 2 2h14c1.1 0 2-.9 2-2V5c0-1.1-.9-2-2-2zM9 17H7v-7h2v7zm4 0h-2V7h2v10zm4 0h-2v-4h2v4z\"/>\n",
              "    </g>\n",
              "</svg>\n",
              "  </button>\n",
              "\n",
              "<style>\n",
              "  .colab-df-quickchart {\n",
              "      --bg-color: #E8F0FE;\n",
              "      --fill-color: #1967D2;\n",
              "      --hover-bg-color: #E2EBFA;\n",
              "      --hover-fill-color: #174EA6;\n",
              "      --disabled-fill-color: #AAA;\n",
              "      --disabled-bg-color: #DDD;\n",
              "  }\n",
              "\n",
              "  [theme=dark] .colab-df-quickchart {\n",
              "      --bg-color: #3B4455;\n",
              "      --fill-color: #D2E3FC;\n",
              "      --hover-bg-color: #434B5C;\n",
              "      --hover-fill-color: #FFFFFF;\n",
              "      --disabled-bg-color: #3B4455;\n",
              "      --disabled-fill-color: #666;\n",
              "  }\n",
              "\n",
              "  .colab-df-quickchart {\n",
              "    background-color: var(--bg-color);\n",
              "    border: none;\n",
              "    border-radius: 50%;\n",
              "    cursor: pointer;\n",
              "    display: none;\n",
              "    fill: var(--fill-color);\n",
              "    height: 32px;\n",
              "    padding: 0;\n",
              "    width: 32px;\n",
              "  }\n",
              "\n",
              "  .colab-df-quickchart:hover {\n",
              "    background-color: var(--hover-bg-color);\n",
              "    box-shadow: 0 1px 2px rgba(60, 64, 67, 0.3), 0 1px 3px 1px rgba(60, 64, 67, 0.15);\n",
              "    fill: var(--button-hover-fill-color);\n",
              "  }\n",
              "\n",
              "  .colab-df-quickchart-complete:disabled,\n",
              "  .colab-df-quickchart-complete:disabled:hover {\n",
              "    background-color: var(--disabled-bg-color);\n",
              "    fill: var(--disabled-fill-color);\n",
              "    box-shadow: none;\n",
              "  }\n",
              "\n",
              "  .colab-df-spinner {\n",
              "    border: 2px solid var(--fill-color);\n",
              "    border-color: transparent;\n",
              "    border-bottom-color: var(--fill-color);\n",
              "    animation:\n",
              "      spin 1s steps(1) infinite;\n",
              "  }\n",
              "\n",
              "  @keyframes spin {\n",
              "    0% {\n",
              "      border-color: transparent;\n",
              "      border-bottom-color: var(--fill-color);\n",
              "      border-left-color: var(--fill-color);\n",
              "    }\n",
              "    20% {\n",
              "      border-color: transparent;\n",
              "      border-left-color: var(--fill-color);\n",
              "      border-top-color: var(--fill-color);\n",
              "    }\n",
              "    30% {\n",
              "      border-color: transparent;\n",
              "      border-left-color: var(--fill-color);\n",
              "      border-top-color: var(--fill-color);\n",
              "      border-right-color: var(--fill-color);\n",
              "    }\n",
              "    40% {\n",
              "      border-color: transparent;\n",
              "      border-right-color: var(--fill-color);\n",
              "      border-top-color: var(--fill-color);\n",
              "    }\n",
              "    60% {\n",
              "      border-color: transparent;\n",
              "      border-right-color: var(--fill-color);\n",
              "    }\n",
              "    80% {\n",
              "      border-color: transparent;\n",
              "      border-right-color: var(--fill-color);\n",
              "      border-bottom-color: var(--fill-color);\n",
              "    }\n",
              "    90% {\n",
              "      border-color: transparent;\n",
              "      border-bottom-color: var(--fill-color);\n",
              "    }\n",
              "  }\n",
              "</style>\n",
              "\n",
              "  <script>\n",
              "    async function quickchart(key) {\n",
              "      const quickchartButtonEl =\n",
              "        document.querySelector('#' + key + ' button');\n",
              "      quickchartButtonEl.disabled = true;  // To prevent multiple clicks.\n",
              "      quickchartButtonEl.classList.add('colab-df-spinner');\n",
              "      try {\n",
              "        const charts = await google.colab.kernel.invokeFunction(\n",
              "            'suggestCharts', [key], {});\n",
              "      } catch (error) {\n",
              "        console.error('Error during call to suggestCharts:', error);\n",
              "      }\n",
              "      quickchartButtonEl.classList.remove('colab-df-spinner');\n",
              "      quickchartButtonEl.classList.add('colab-df-quickchart-complete');\n",
              "    }\n",
              "    (() => {\n",
              "      let quickchartButtonEl =\n",
              "        document.querySelector('#df-ec3df74e-374d-4734-a828-150ce10de1fa button');\n",
              "      quickchartButtonEl.style.display =\n",
              "        google.colab.kernel.accessAllowed ? 'block' : 'none';\n",
              "    })();\n",
              "  </script>\n",
              "</div>\n",
              "\n",
              "    </div>\n",
              "  </div>\n"
            ],
            "application/vnd.google.colaboratory.intrinsic+json": {
              "type": "dataframe",
              "variable_name": "results",
              "summary": "{\n  \"name\": \"results\",\n  \"rows\": 1000,\n  \"fields\": [\n    {\n      \"column\": \"True\",\n      \"properties\": {\n        \"dtype\": \"number\",\n        \"std\": 0.8480458860759968,\n        \"min\": 1.005715341259207,\n        \"max\": 3.999940238850037,\n        \"num_unique_values\": 1000,\n        \"samples\": [\n          3.5023771590650243,\n          2.0626354409419108,\n          1.1107469519258977\n        ],\n        \"semantic_type\": \"\",\n        \"description\": \"\"\n      }\n    },\n    {\n      \"column\": \"Pred\",\n      \"properties\": {\n        \"dtype\": \"float32\",\n        \"num_unique_values\": 1000,\n        \"samples\": [\n          3.5642285346984863,\n          2.030625820159912,\n          1.183366060256958\n        ],\n        \"semantic_type\": \"\",\n        \"description\": \"\"\n      }\n    },\n    {\n      \"column\": \"sigma_plus\",\n      \"properties\": {\n        \"dtype\": \"number\",\n        \"std\": 0.8331289313382142,\n        \"min\": 1.0267326927185059,\n        \"max\": 4.00562084197998,\n        \"num_unique_values\": 1000,\n        \"samples\": [\n          3.694810905456543,\n          2.215431098937988,\n          1.2928407096862793\n        ],\n        \"semantic_type\": \"\",\n        \"description\": \"\"\n      }\n    },\n    {\n      \"column\": \"sigma_minus\",\n      \"properties\": {\n        \"dtype\": \"number\",\n        \"std\": 0.8645009103026116,\n        \"min\": 0.9254326558113098,\n        \"max\": 3.909430618286133,\n        \"num_unique_values\": 1000,\n        \"samples\": [\n          3.4518697357177732,\n          1.8531770420074463,\n          1.0752357530593872\n        ],\n        \"semantic_type\": \"\",\n        \"description\": \"\"\n      }\n    },\n    {\n      \"column\": \"percentile_of_true\",\n      \"properties\": {\n        \"dtype\": \"object\",\n        \"semantic_type\": \"\",\n        \"description\": \"\"\n      }\n    },\n    {\n      \"column\": \"Precision\",\n      \"properties\": {\n        \"dtype\": \"number\",\n        \"std\": 0.06369851286133174,\n        \"min\": 0.7074370070752247,\n        \"max\": 0.9757481803818584,\n        \"num_unique_values\": 1000,\n        \"samples\": [\n          0.931839059315729,\n          0.8216047223796188,\n          0.8161135730226698\n        ],\n        \"semantic_type\": \"\",\n        \"description\": \"\"\n      }\n    },\n    {\n      \"column\": \"Deviation\",\n      \"properties\": {\n        \"dtype\": \"number\",\n        \"std\": 0.07579992209198225,\n        \"min\": 9.044429402978773e-06,\n        \"max\": 0.7964450372396377,\n        \"num_unique_values\": 1000,\n        \"samples\": [\n          0.01735336974925326,\n          0.01576342645907944,\n          0.061366563373713545\n        ],\n        \"semantic_type\": \"\",\n        \"description\": \"\"\n      }\n    }\n  ]\n}"
            }
          },
          "metadata": {},
          "execution_count": 56
        }
      ]
    },
    {
      "cell_type": "code",
      "source": [
        "print(f\"Median Precision: {results['Precision'].agg('mean')}\")\n",
        "print(f\"Median Fractional Deviation: {results['Deviation'].agg('mean')}\")"
      ],
      "metadata": {
        "colab": {
          "base_uri": "https://localhost:8080/"
        },
        "id": "NWbWpaM4I3rc",
        "outputId": "7acd052f-fc88-490d-a57b-93ee72701724"
      },
      "execution_count": null,
      "outputs": [
        {
          "output_type": "stream",
          "name": "stdout",
          "text": [
            "Median Precision: 0.8596027105560292\n",
            "Median Fractional Deviation: 0.05625768812671993\n"
          ]
        }
      ]
    },
    {
      "cell_type": "markdown",
      "source": [
        "## Simulation-Based Calibration\n",
        "To assess the quality of the posteriors and the reliability of the uncertainties generated by the model, we can employ a few of tests know as [Simulation-Based Calibration](https://stat.paperswithcode.com/paper/validating-bayesian-inference-algorithms-with)."
      ],
      "metadata": {
        "id": "ZHROKCG3klvh"
      }
    },
    {
      "cell_type": "markdown",
      "source": [
        "We start with the posterior coverage plot. For a well-calibrated model, the percentage of true values contained in a certain percentile range centered (around the median) should increase linearly as we increase the range. This ensures that the posteriors are not sistematically under- or over- confident."
      ],
      "metadata": {
        "id": "0hX4yGChkwBh"
      }
    },
    {
      "cell_type": "code",
      "source": [
        "# posterior coverage plot\n",
        "confidence_intervals = np.linspace(0,50,50)\n",
        "\n",
        "empirical_coverage=[]\n",
        "for interval in confidence_intervals:\n",
        "    coverage = 0\n",
        "    for percentile in percentile_of_true:\n",
        "        if percentile >= 50-interval and percentile <= 50+interval:\n",
        "            coverage+=1\n",
        "    empirical_coverage.append(coverage)\n",
        "\n",
        "print(empirical_coverage)\n",
        "\n",
        "\n",
        "\n",
        "plt.plot(2*confidence_intervals, [item/10 for item in empirical_coverage])\n",
        "plt.plot([0,100], [0,100], '--k')\n",
        "plt.xlabel(\"Confidence Interval\")\n",
        "plt.ylabel(\"Empirical Coverage\")\n",
        "plt.grid(alpha=0.3)"
      ],
      "metadata": {
        "colab": {
          "base_uri": "https://localhost:8080/",
          "height": 504
        },
        "id": "5WJiuT9TJdKO",
        "outputId": "6052c75c-7f98-4518-e5f9-a8b3a119b39c"
      },
      "execution_count": null,
      "outputs": [
        {
          "output_type": "stream",
          "name": "stdout",
          "text": [
            "[3, 24, 45, 70, 89, 108, 126, 153, 167, 189, 218, 243, 266, 292, 316, 336, 361, 383, 401, 419, 447, 472, 497, 521, 536, 561, 582, 601, 609, 630, 652, 670, 688, 706, 728, 744, 763, 785, 802, 823, 841, 860, 880, 901, 919, 933, 947, 970, 985, 1000]\n"
          ]
        },
        {
          "output_type": "execute_result",
          "data": {
            "text/plain": [
              "Text(0, 0.5, 'Empirical Coverage')"
            ]
          },
          "metadata": {},
          "execution_count": 105
        },
        {
          "output_type": "display_data",
          "data": {
            "text/plain": [
              "<Figure size 640x480 with 1 Axes>"
            ],
            "image/png": "[encoded data removed]"
          },
          "metadata": {}
        }
      ]
    },
    {
      "cell_type": "markdown",
      "source": [
        " The next tests are based on rank statistics. The rank of a posterior is found by counting how many of its samples fall under its true value. Thus, for a well-calibrated model, the distribution of rank values for a set of posteriors is expected to be uniform. The following tests probe how close the rank distribution is to a uniform distribution. We can use sbi's built-in functions for these tests."
      ],
      "metadata": {
        "id": "dq-Jw5o9-ocL"
      }
    },
    {
      "cell_type": "code",
      "source": [
        "from sbi.analysis import run_sbc\n",
        "from sbi.analysis import check_sbc, get_nltp, sbc_rank_plot"
      ],
      "metadata": {
        "id": "yhvrM4f7ZD6k"
      },
      "execution_count": null,
      "outputs": []
    },
    {
      "cell_type": "code",
      "source": [
        "ranks, dap_samples = sbi.analysis.run_sbc(test_params.cuda(), # ground-truth parameters for sbc, simulated from the prior\n",
        "                                          test_images.cuda(), # observed data for sbc, simulated from thetas\n",
        "                                          posterior, # a posterior obtained from sbi\n",
        "                                          num_posterior_samples=1000\n",
        "                                          )\n",
        "# now running stats tests\n",
        "check_stats = check_sbc(ranks,\n",
        "                        test_params.cuda(),\n",
        "                        dap_samples,\n",
        "                        num_posterior_samples=1000\n",
        ")"
      ],
      "metadata": {
        "colab": {
          "base_uri": "https://localhost:8080/",
          "height": 49,
          "referenced_widgets": [
            "a4f28747dcab48278b8e1eb1f479c26d",
            "5ce84dd27651414d8d2c2ac3fde65c78",
            "7c703e4e66b741b2a6aeb66e1ebd7ff0",
            "532d348e2a2b4a1ba292a48f9a1d5031",
            "a2a3ead213304acdb4ad15f958748d61",
            "a3f64338a894468ab3b0faf38998450e",
            "5bb8f55270004fc8b208fa07cc62ae55",
            "1acf56c88e05455cba2aea746ab7b90c",
            "6b982959d0a14fdfb2dcfcba7a5097ff",
            "39a68b847ab3494f8c4e3965d340fc93",
            "20cdea6ff3cc44118c74789f5f9c6233"
          ]
        },
        "id": "Ih_f0uPFZLkA",
        "outputId": "94481524-1835-4bac-9746-3ae05f246be9"
      },
      "execution_count": null,
      "outputs": [
        {
          "output_type": "display_data",
          "data": {
            "text/plain": [
              "Running 1000 sbc samples.:   0%|          | 0/1000 [00:00<?, ?it/s]"
            ],
            "application/vnd.jupyter.widget-view+json": {
              "version_major": 2,
              "version_minor": 0,
              "model_id": "a4f28747dcab48278b8e1eb1f479c26d"
            }
          },
          "metadata": {}
        }
      ]
    },
    {
      "cell_type": "markdown",
      "source": [
        "We start with the Kolmogorov-Smirnov p-values test, which checks the null-hypothesis that the samples in the rank distribution and a set of samples taken from a uniform distribution are sampled from the same distribution. We expect the result to be a non-vanishing probability."
      ],
      "metadata": {
        "id": "Lx61AciymlWN"
      }
    },
    {
      "cell_type": "code",
      "source": [
        "print(f\"kolmogorov-smirnov p-values = {check_stats['ks_pvals'].numpy()}\")"
      ],
      "metadata": {
        "colab": {
          "base_uri": "https://localhost:8080/"
        },
        "id": "WtExgvAvZ2xN",
        "outputId": "a04b82e9-6410-44f5-e26d-f23bc7740b5b"
      },
      "execution_count": null,
      "outputs": [
        {
          "output_type": "stream",
          "name": "stdout",
          "text": [
            "kolmogorov-smirnov p-values = [0.03378307]\n"
          ]
        }
      ]
    },
    {
      "cell_type": "markdown",
      "source": [
        "The [Classifier two-sample](https://arxiv.org/abs/1610.06545) test compares the rank distribution to a uniform distribution by training a classifier to differentiate these two distributions. Scores close to 0.5 show that the classifier is unable to differentiate between the two distributions."
      ],
      "metadata": {
        "id": "gXLZR4L8nwsL"
      }
    },
    {
      "cell_type": "code",
      "source": [
        "print(f\"c2st accuracies = {check_stats['c2st_ranks'].numpy()}\")"
      ],
      "metadata": {
        "colab": {
          "base_uri": "https://localhost:8080/"
        },
        "id": "3AYdVwk-Z4rF",
        "outputId": "0a3ffd00-564e-41fd-9400-f19b4c7e04c1"
      },
      "execution_count": null,
      "outputs": [
        {
          "output_type": "stream",
          "name": "stdout",
          "text": [
            "c2st accuracies = [0.563]\n"
          ]
        }
      ]
    },
    {
      "cell_type": "markdown",
      "source": [
        "Finally, we plot the ranks distribution. The gray region represents the 99% confidence interval for a uniform distribution, meaning that 1 in every 100 bars should fall outside of that region for any uniform distribution."
      ],
      "metadata": {
        "id": "qmnyxukLo2gT"
      }
    },
    {
      "cell_type": "code",
      "source": [
        "f, ax = sbc_rank_plot(\n",
        "    ranks=ranks,\n",
        "    num_posterior_samples=1000,\n",
        "    plot_type=\"hist\",\n",
        "    num_bins=50,  # by passing None we use a heuristic for the number of bins.\n",
        ")"
      ],
      "metadata": {
        "colab": {
          "base_uri": "https://localhost:8080/",
          "height": 465
        },
        "id": "RWLtZPZ8Z9Nz",
        "outputId": "57c375cd-c94b-4af3-a72b-4be4d726310b"
      },
      "execution_count": null,
      "outputs": [
        {
          "output_type": "display_data",
          "data": {
            "text/plain": [
              "<Figure size 400x500 with 1 Axes>"
            ],
            "image/png": "[encoded data removed]"
          },
          "metadata": {}
        }
      ]
    }
  ]
}